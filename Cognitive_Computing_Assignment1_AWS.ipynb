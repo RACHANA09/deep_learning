{
  "nbformat": 4,
  "nbformat_minor": 0,
  "metadata": {
    "colab": {
      "name": "Cognitive Computing Assignment1 AWS.ipynb",
      "version": "0.3.2",
      "provenance": []
    },
    "kernelspec": {
      "display_name": "Python 3",
      "language": "python",
      "name": "python3"
    }
  },
  "cells": [
    {
      "metadata": {
        "id": "zk2NVv0hfuD7",
        "colab_type": "code",
        "colab": {}
      },
      "cell_type": "code",
      "source": [
        "import os\n",
        "import boto3 #Amazon library  \n",
        "import sagemaker #Sagemaker Library \n",
        "from sagemaker import get_execution_role"
      ],
      "execution_count": 0,
      "outputs": []
    },
    {
      "metadata": {
        "id": "REgB4hINfuD-",
        "colab_type": "code",
        "colab": {}
      },
      "cell_type": "code",
      "source": [
        "#Creating a session and getting execution role \n",
        "sagemaker_session = sagemaker.Session()\n",
        "role = get_execution_role()\n"
      ],
      "execution_count": 0,
      "outputs": []
    },
    {
      "metadata": {
        "id": "GU0JUP_WfuEB",
        "colab_type": "code",
        "colab": {}
      },
      "cell_type": "code",
      "source": [
        "#S3 path \n",
        "inputs = 's3://Cognitive_computing/Assignment-1'"
      ],
      "execution_count": 0,
      "outputs": []
    },
    {
      "metadata": {
        "id": "ZI6PT3_sfuED",
        "colab_type": "text"
      },
      "cell_type": "markdown",
      "source": [
        "Creating an Tensorflow Estimator "
      ]
    },
    {
      "metadata": {
        "id": "7A0YsR1efuEG",
        "colab_type": "code",
        "colab": {}
      },
      "cell_type": "code",
      "source": [
        "from sagemaker.tensorflow import TensorFlow\n",
        "Estimator = TensorFlow(entry_point='Assignment-1_cifar-10.py',                               \n",
        "                               sagemaker_session=sagemaker_session,                                \n",
        "                               role=role,\n",
        "                               training_steps= 700,                                  \n",
        "                               evaluation_steps= 3,\n",
        "                               hyperparameters={'learning_rate': 0.001},\n",
        "                               train_instance_count=1,\n",
        "                               train_instance_type='ml.m5.large')"
      ],
      "execution_count": 0,
      "outputs": []
    },
    {
      "metadata": {
        "id": "AyB2Pef5fuEI",
        "colab_type": "code",
        "colab": {}
      },
      "cell_type": "code",
      "source": [
        "#Fitting the data \n",
        "Estimator.fit(inputs)"
      ],
      "execution_count": 0,
      "outputs": []
    },
    {
      "metadata": {
        "id": "esz0VmmVfuEK",
        "colab_type": "code",
        "colab": {}
      },
      "cell_type": "code",
      "source": [
        "#Creating an End-point\n",
        "#Using t3.medium instance for deploymnet \n",
        "predictor = Estimator.deploy(initial_instance_count=1, instance_type='ml.t2.medium')"
      ],
      "execution_count": 0,
      "outputs": []
    },
    {
      "metadata": {
        "id": "VoJgFk9NfuEM",
        "colab_type": "code",
        "colab": {}
      },
      "cell_type": "code",
      "source": [
        "predict_data = pd.read_csv('s3://Cognitive_computing/Assignment-1/x_test.csv')"
      ],
      "execution_count": 0,
      "outputs": []
    },
    {
      "metadata": {
        "id": "JzFa_H5GfuEP",
        "colab_type": "code",
        "colab": {}
      },
      "cell_type": "code",
      "source": [
        "#Making Predictions on test data\n",
        "predictor.predict(predict_data)"
      ],
      "execution_count": 0,
      "outputs": []
    }
  ]
}