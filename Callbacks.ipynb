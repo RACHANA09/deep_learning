{
  "nbformat": 4,
  "nbformat_minor": 0,
  "metadata": {
    "colab": {
      "name": "Assignment-1-cognitive-computing.ipynb",
      "version": "0.3.2",
      "provenance": [],
      "include_colab_link": true
    },
    "kernelspec": {
      "name": "python3",
      "display_name": "Python 3"
    },
    "accelerator": "TPU"
  },
  "cells": [
    {
      "cell_type": "markdown",
      "metadata": {
        "id": "view-in-github",
        "colab_type": "text"
      },
      "source": [
        "[View in Colaboratory](https://colab.research.google.com/github/RACHANAMOVVA09/deep_learning/blob/master/Callbacks.ipynb)"
      ]
    },
    {
      "metadata": {
        "id": "Z7_888CnqEsk",
        "colab_type": "code",
        "colab": {}
      },
      "cell_type": "code",
      "source": [
        "import pandas as pd\n",
        "import numpy as np\n",
        "import tensorflow as tf\n",
        "import keras\n",
        "from keras.datasets import cifar10, mnist\n",
        "from keras import layers \n",
        "from keras.layers import Dense, Reshape, Dropout,Conv2D,MaxPooling2D,Flatten,BatchNormalization,Activation\n",
        "from keras import Sequential\n",
        "from keras import optimizers\n",
        "from keras.callbacks import EarlyStopping, ModelCheckpoint, TensorBoard,ReduceLROnPlateau\n",
        "from keras.models import load_model\n",
        "import matplotlib.pyplot as plt\n",
        "from keras.models import load_model\n",
        "\n"
      ],
      "execution_count": 0,
      "outputs": []
    },
    {
      "metadata": {
        "id": "BGwA5UdHqGwN",
        "colab_type": "code",
        "colab": {}
      },
      "cell_type": "code",
      "source": [
        "(x_train, y_train), (x_test, y_test) = cifar10.load_data()"
      ],
      "execution_count": 0,
      "outputs": []
    },
    {
      "metadata": {
        "id": "coaMxVneq055",
        "colab_type": "code",
        "colab": {}
      },
      "cell_type": "code",
      "source": [
        "x_train_cifar = x_train\n",
        "x_test_cifar = x_test\n",
        "y_train_cifar = y_train\n",
        "y_test_cifar = y_test"
      ],
      "execution_count": 0,
      "outputs": []
    },
    {
      "metadata": {
        "id": "NJf0n_l3qpjv",
        "colab_type": "code",
        "colab": {}
      },
      "cell_type": "code",
      "source": [
        "x_train = x_train.reshape(50000, 3072)\n",
        "x_test = x_test.reshape(10000, 3072)\n",
        "x_train = x_train.astype('float32')\n",
        "x_test = x_test.astype('float32')\n",
        "x_train /= 255\n",
        "x_test /= 255\n",
        "print(x_train.shape[0], 'train samples')\n",
        "print(x_test.shape[0], 'test samples')"
      ],
      "execution_count": 0,
      "outputs": []
    },
    {
      "metadata": {
        "id": "bI_PwRmz5Pw6",
        "colab_type": "code",
        "colab": {}
      },
      "cell_type": "code",
      "source": [
        "x_train_cifar = x_train_cifar.astype('float32')\n",
        "x_test_cifar = x_test_cifar.astype('float32')\n",
        "x_train_cifar /= 255\n",
        "x_test_cifar /= 255"
      ],
      "execution_count": 0,
      "outputs": []
    },
    {
      "metadata": {
        "id": "baNql9rTsCZU",
        "colab_type": "code",
        "colab": {}
      },
      "cell_type": "code",
      "source": [
        "y_train = keras.utils.to_categorical(y_train, 10)\n",
        "y_test = keras.utils.to_categorical(y_test, 10)\n",
        "y_train_cifar = keras.utils.to_categorical(y_train_cifar, 10)\n",
        "y_test_cifar = keras.utils.to_categorical(y_test_cifar, 10)\n",
        "\n"
      ],
      "execution_count": 0,
      "outputs": []
    },
    {
      "metadata": {
        "id": "gTkKYkQFs9Wg",
        "colab_type": "code",
        "colab": {}
      },
      "cell_type": "code",
      "source": [
        "callbacks_model1 = [\n",
        "        EarlyStopping(monitor='val_loss', patience=5, verbose=0),     \n",
        "        ReduceLROnPlateau(monitor='val_loss', factor=0.1, patience=3)]"
      ],
      "execution_count": 0,
      "outputs": []
    },
    {
      "metadata": {
        "id": "ObvJFiIp33Ea",
        "colab_type": "code",
        "colab": {}
      },
      "cell_type": "code",
      "source": [
        "#Sample Model \n",
        "model6 = Sequential()\n",
        "model6.add(Dense(1024, activation='relu', input_shape=(3072,)))\n",
        "model6.add(Dense(512, activation='relu'))\n",
        "model6.add(Dense(256, activation='relu'))\n",
        "model6.add(Dense(128, activation='relu'))\n",
        "model6.add(Dense(64, activation='relu'))\n",
        "model6.add(Dense(10, activation='softmax'))\n",
        "model6.compile(optimizer='rmsprop',loss='categorical_crossentropy',metrics=['accuracy'])\n",
        "model6.summary()\n",
        "history6 = model6.fit(x_train,y_train,epochs=100,batch_size=32,validation_split = 0.1)\n",
        "\n"
      ],
      "execution_count": 0,
      "outputs": []
    },
    {
      "metadata": {
        "id": "UcK3Ix6MJCl6",
        "colab_type": "code",
        "colab": {}
      },
      "cell_type": "code",
      "source": [
        "model6"
      ],
      "execution_count": 0,
      "outputs": []
    },
    {
      "metadata": {
        "id": "NDPz7L7Iqxwh",
        "colab_type": "code",
        "colab": {}
      },
      "cell_type": "code",
      "source": [
        "#Sample Model with call backs\n",
        "model = Sequential()\n",
        "model.add(Dense(1024, activation='relu', input_shape=(3072,)))\n",
        "model.add(Dense(512, activation='relu'))\n",
        "model.add(Dense(256, activation='relu'))\n",
        "model.add(Dense(128, activation='relu'))\n",
        "model.add(Dense(64, activation='relu'))\n",
        "model.add(Dense(10, activation='softmax'))\n",
        "model.compile(optimizer='rmsprop',loss='categorical_crossentropy',metrics=['accuracy'])\n",
        "model.summary()\n",
        "history = model.fit(x_train,y_train,epochs=1,batch_size=32,validation_split = 0.1, callbacks = callbacks_model1 )\n",
        "\n"
      ],
      "execution_count": 0,
      "outputs": []
    },
    {
      "metadata": {
        "id": "AMUo_J4Guu7x",
        "colab_type": "code",
        "colab": {}
      },
      "cell_type": "code",
      "source": [
        "loss = history.history['loss']\n",
        "val_loss = history.history['val_loss']\n",
        "epochs = range(1, len(loss) + 1)\n",
        "plt.plot(epochs, loss, 'bo', label='Training loss')\n",
        "plt.plot(epochs, val_loss, 'b', label='Validation loss')\n",
        "plt.title('Training and validation loss')\n",
        "plt.xlabel('Epochs')\n",
        "plt.ylabel('Loss')\n",
        "plt.legend()\n",
        "plt.show()"
      ],
      "execution_count": 0,
      "outputs": []
    },
    {
      "metadata": {
        "id": "pcBUPmIvtRNh",
        "colab_type": "code",
        "colab": {}
      },
      "cell_type": "code",
      "source": [
        "model1 = Sequential()\n",
        "model1.add(Dense(3072, activation = 'relu', input_shape  = (3072,)))\n",
        "model1.add(Dropout(0.1))\n",
        "model1.add(Dense(768, activation = 'relu'))\n",
        "model1.add(Dropout(0.1))\n",
        "model1.add(Dense(512, activation = 'relu'))\n",
        "model1.add(Dropout(0.1))\n",
        "model1.add(Dense(256, activation = 'relu'))\n",
        "model1.add(Dropout(0.1))\n",
        "model1.add(Dense(128, activation = 'relu'))\n",
        "model1.add(Dropout(0.1))\n",
        "model1.add(Dense(64, activation = 'relu'))\n",
        "model1.add(Dropout(0.1))\n",
        "model1.add(Dense(32, activation = 'relu'))\n",
        "model1.add(Dense(10, activation = 'softmax'))\n",
        "opt_model = optimizers.Adam(lr=1e-4)\n",
        "model1.compile(optimizer=opt_model,loss='categorical_crossentropy',metrics=['accuracy'])\n",
        "model1.summary()\n",
        "history1 = model1.fit(x_train, y_train, epochs=100, batch_size=32, validation_split = 0.1, callbacks = callbacks_model1)"
      ],
      "execution_count": 0,
      "outputs": []
    },
    {
      "metadata": {
        "id": "YbyutR9rxKHT",
        "colab_type": "code",
        "colab": {}
      },
      "cell_type": "code",
      "source": [
        "loss = history1.history['loss']\n",
        "val_loss = history1.history['val_loss']\n",
        "epochs = range(1, len(loss) + 1)\n",
        "plt.plot(epochs, loss, 'bo', label='Training loss')\n",
        "plt.plot(epochs, val_loss, 'b', label='Validation loss')\n",
        "plt.title('Training and validation loss')\n",
        "plt.xlabel('Epochs')\n",
        "plt.ylabel('Loss')\n",
        "plt.legend()\n",
        "plt.show()"
      ],
      "execution_count": 0,
      "outputs": []
    },
    {
      "metadata": {
        "id": "hEZ_n9JCu2wW",
        "colab_type": "code",
        "colab": {}
      },
      "cell_type": "code",
      "source": [
        "#General \n",
        "model2 = Sequential()\n",
        "model2.add(Conv2D(32, (3, 3), activation='relu', input_shape=(32, 32, 3)))\n",
        "model2.add(MaxPooling2D((2, 2)))\n",
        "model2.add(Conv2D(64, (3, 3), activation='relu'))\n",
        "model2.add(MaxPooling2D((2, 2)))\n",
        "model2.add(Flatten())\n",
        "model2.add(Dense(64, activation='relu'))\n",
        "model2.add(Dense(10, activation='softmax'))\n",
        "opt_model = optimizers.Adam(lr=1e-4)\n",
        "model2.compile(optimizer=opt_model,loss='categorical_crossentropy',metrics=['accuracy'])\n",
        "model2.summary()\n",
        "history2 = model2.fit(x_train_cifar, y_train_cifar, epochs=100, batch_size=32, validation_split = 0.1, callbacks = callbacks_model1)\n"
      ],
      "execution_count": 0,
      "outputs": []
    },
    {
      "metadata": {
        "id": "isLJ1LmBwn1s",
        "colab_type": "code",
        "colab": {}
      },
      "cell_type": "code",
      "source": [
        "loss = history2.history['loss']\n",
        "val_loss = history2.history['val_loss']\n",
        "epochs = range(1, len(loss) + 1)\n",
        "plt.plot(epochs, loss, 'bo', label='Training loss')\n",
        "plt.plot(epochs, val_loss, 'b', label='Validation loss')\n",
        "plt.title('Training and validation loss')\n",
        "plt.xlabel('Epochs')\n",
        "plt.ylabel('Loss')\n",
        "plt.legend()\n",
        "plt.show()"
      ],
      "execution_count": 0,
      "outputs": []
    },
    {
      "metadata": {
        "id": "zVz3PIwfu20x",
        "colab_type": "code",
        "colab": {}
      },
      "cell_type": "code",
      "source": [
        "#Adding more conv2d and Max pooling layers\n",
        "model3 = Sequential()\n",
        "model3.add(layers.Conv2D(32, (3, 3), activation='relu', input_shape=(32, 32, 3)))\n",
        "model3.add(layers.MaxPooling2D((2, 2)))\n",
        "model3.add(layers.Conv2D(64, (3, 3), activation='relu'))\n",
        "model3.add(layers.MaxPooling2D((2, 2)))\n",
        "model3.add(layers.Conv2D(128, (3, 3), activation='relu'))\n",
        "model3.add(layers.MaxPooling2D((2, 2)))\n",
        "# model3.add(layers.Conv2D(128, (3, 3), activation='relu'))\n",
        "# model3.add(layers.MaxPooling2D((2, 2)))\n",
        "model3.add(layers.Flatten())\n",
        "model3.add(Dropout(0.1))\n",
        "model3.add(layers.Dense(64, activation='relu'))\n",
        "model3.add(layers.Dense(10, activation='softmax'))\n",
        "opt_model = optimizers.Adam(lr=1e-4)\n",
        "model3.compile(optimizer=opt_model,loss='categorical_crossentropy',metrics=['accuracy'])\n",
        "model3.summary()\n",
        "history3 = model3.fit(x_train_cifar, y_train_cifar, epochs=100, batch_size=32, validation_split = 0.1, callbacks = callbacks_model1)\n"
      ],
      "execution_count": 0,
      "outputs": []
    },
    {
      "metadata": {
        "id": "SU17pO1vu271",
        "colab_type": "code",
        "colab": {}
      },
      "cell_type": "code",
      "source": [
        "loss = history3.history['loss']\n",
        "val_loss = history3.history['val_loss']\n",
        "epochs = range(1, len(loss) + 1)\n",
        "plt.plot(epochs, loss, 'bo', label='Training loss')\n",
        "plt.plot(epochs, val_loss, 'b', label='Validation loss')\n",
        "plt.title('Training and validation loss')\n",
        "plt.xlabel('Epochs')\n",
        "plt.ylabel('Loss')\n",
        "plt.legend()\n",
        "plt.show()"
      ],
      "execution_count": 0,
      "outputs": []
    },
    {
      "metadata": {
        "id": "jll2liJOu3CA",
        "colab_type": "code",
        "colab": {}
      },
      "cell_type": "code",
      "source": [
        "model4 = Sequential()\n",
        "model4.add(Dense(3072, activation = 'relu', input_shape  = (3072,)))\n",
        "model4.add(Dropout(0.5))\n",
        "model4.add(Dense(768, activation = 'relu'))\n",
        "model4.add(Dropout(0.5))\n",
        "model4.add(Dense(512, activation = 'relu'))\n",
        "model4.add(Dropout(0.5))\n",
        "model4.add(Dense(256, activation = 'relu'))\n",
        "model4.add(Dropout(0.5))\n",
        "model4.add(Dense(128, activation = 'relu'))\n",
        "model4.add(Dropout(0.5))\n",
        "model4.add(Dense(64, activation = 'relu'))\n",
        "model4.add(Dropout(0.5))\n",
        "model4.add(Dense(32, activation = 'relu'))\n",
        "model4.add(Dense(10, activation = 'softmax'))\n",
        "opt_model = optimizers.Adam(lr=1e-4)\n",
        "model4.compile(optimizer=opt_model,loss='categorical_crossentropy',metrics=['accuracy'])\n",
        "model4.summary()\n",
        "history4 = model4.fit(x_train, y_train, epochs=100, batch_size=32, validation_split = 0.1, callbacks = callbacks_model1)"
      ],
      "execution_count": 0,
      "outputs": []
    },
    {
      "metadata": {
        "id": "6Xnk-vEAu3JN",
        "colab_type": "code",
        "colab": {}
      },
      "cell_type": "code",
      "source": [
        "loss = history4.history['loss']\n",
        "val_loss = history4.history['val_loss']\n",
        "epochs = range(1, len(loss) + 1)\n",
        "plt.plot(epochs, loss, 'bo', label='Training loss')\n",
        "plt.plot(epochs, val_loss, 'b', label='Validation loss')\n",
        "plt.title('Training and validation loss')\n",
        "plt.xlabel('Epochs')\n",
        "plt.ylabel('Loss')\n",
        "plt.legend()\n",
        "plt.show()"
      ],
      "execution_count": 0,
      "outputs": []
    },
    {
      "metadata": {
        "id": "lwn89RXru3Ng",
        "colab_type": "code",
        "colab": {}
      },
      "cell_type": "code",
      "source": [
        "model5 = Sequential()\n",
        "model5.add(Dense(768,input_shape  = (3072,)))\n",
        "model5.add(BatchNormalization())\n",
        "model5.add(Activation('relu'))\n",
        "model5.add(Dropout(0.1))\n",
        "\n",
        "model5.add(Dense(512, activation = 'relu'))\n",
        "model5.add(BatchNormalization())\n",
        "model5.add(Activation('relu'))\n",
        "model5.add(Dropout(0.1))\n",
        "\n",
        "model5.add(Dense(256, activation = 'relu'))\n",
        "model5.add(BatchNormalization())\n",
        "model5.add(Activation('relu'))\n",
        "model5.add(Dropout(0.1))\n",
        "\n",
        "model5.add(Dense(128, activation = 'relu'))\n",
        "model5.add(BatchNormalization())\n",
        "model5.add(Activation('relu'))\n",
        "model5.add(Dropout(0.1))\n",
        "\n",
        "model5.add(Dense(64, activation = 'relu'))\n",
        "model5.add(BatchNormalization())\n",
        "model5.add(Activation('relu'))\n",
        "model5.add(Dropout(0.1))\n",
        "\n",
        "model5.add(Dense(32, activation = 'relu'))\n",
        "model5.add(BatchNormalization())\n",
        "model5.add(Activation('relu'))\n",
        "model5.add(Dropout(0.1))\n",
        "\n",
        "model5.add(Dense(10, activation = 'softmax'))\n",
        "opt_model = optimizers.Adam(lr=1e-4)\n",
        "model5.compile(optimizer=opt_model,loss='categorical_crossentropy',metrics=['accuracy'])\n",
        "model5.summary()\n",
        "history5 = model5.fit(x_train, y_train, epochs=100, batch_size=32, validation_split = 0.1,callbacks=callbacks_model1)"
      ],
      "execution_count": 0,
      "outputs": []
    },
    {
      "metadata": {
        "id": "iJIrd7Xdu3Rm",
        "colab_type": "code",
        "colab": {}
      },
      "cell_type": "code",
      "source": [
        ""
      ],
      "execution_count": 0,
      "outputs": []
    },
    {
      "metadata": {
        "id": "fRRyYgnLu2_e",
        "colab_type": "code",
        "colab": {}
      },
      "cell_type": "code",
      "source": [
        ""
      ],
      "execution_count": 0,
      "outputs": []
    },
    {
      "metadata": {
        "id": "5vGMX4Thu25C",
        "colab_type": "code",
        "colab": {}
      },
      "cell_type": "code",
      "source": [
        ""
      ],
      "execution_count": 0,
      "outputs": []
    },
    {
      "metadata": {
        "id": "UZ-O-eOUjjiG",
        "colab_type": "code",
        "colab": {}
      },
      "cell_type": "code",
      "source": [
        ""
      ],
      "execution_count": 0,
      "outputs": []
    }
  ]
}