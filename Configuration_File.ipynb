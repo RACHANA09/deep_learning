{
  "nbformat": 4,
  "nbformat_minor": 0,
  "metadata": {
    "colab": {
      "name": "Configuration File.ipynb",
      "version": "0.3.2",
      "provenance": [],
      "collapsed_sections": []
    },
    "kernelspec": {
      "name": "python3",
      "display_name": "Python 3"
    },
    "accelerator": "GPU"
  },
  "cells": [
    {
      "metadata": {
        "id": "U4ydTrzaMwOZ",
        "colab_type": "code",
        "colab": {
          "base_uri": "https://localhost:8080/",
          "height": 35
        },
        "outputId": "8df7bca6-fbba-418a-e832-2fdba3c5b5a8"
      },
      "cell_type": "code",
      "source": [
        "import pandas as pd\n",
        "import numpy as np\n",
        "import tensorflow as tf\n",
        "import keras\n",
        "from keras.datasets import cifar10, mnist\n",
        "from keras import layers \n",
        "from keras.layers import Dense, Reshape, Dropout,Conv2D,MaxPooling2D,Flatten,BatchNormalization,Activation\n",
        "from keras import Sequential\n",
        "from keras import optimizers\n",
        "from keras.callbacks import EarlyStopping, ModelCheckpoint, TensorBoard,ReduceLROnPlateau\n",
        "from keras.models import load_model\n",
        "import matplotlib.pyplot as plt\n",
        "from keras.models import load_model"
      ],
      "execution_count": 1,
      "outputs": [
        {
          "output_type": "stream",
          "text": [
            "Using TensorFlow backend.\n"
          ],
          "name": "stderr"
        }
      ]
    },
    {
      "metadata": {
        "id": "tl83CIejMxBf",
        "colab_type": "code",
        "colab": {}
      },
      "cell_type": "code",
      "source": [
        "def MLP():    \n",
        "  output_list = list()\n",
        "  epochs = 50\n",
        "  batchsize = 32\n",
        "  learning_rate = 0.001\n",
        "  optimizer = \"Adam\"\n",
        "  loss = 'categorical_crossentropy'\n",
        "  metrics = ['accuracy']\n",
        "  validation_split = 0.2\n",
        "  output_list.append(epochs)\n",
        "  output_list.append(batchsize)\n",
        "  output_list.append(learning_rate)\n",
        "  output_list.append(optimizer)\n",
        "  output_list.append(loss)\n",
        "  output_list.append(metrics)\n",
        "  output_list.append(validation_split)\n",
        "  return output_list"
      ],
      "execution_count": 0,
      "outputs": []
    },
    {
      "metadata": {
        "id": "aB1KZTWiMwvj",
        "colab_type": "code",
        "colab": {}
      },
      "cell_type": "code",
      "source": [
        "def CNN():\n",
        "   output_list1 = list()\n",
        "   epochs = 100\n",
        "   batchsize = 64\n",
        "   learning_rate = 0.01\n",
        "   optimizer = \"Adam\"\n",
        "   loss = 'categorical_crossentropy'\n",
        "   metrics = ['accuracy']\n",
        "   validation_split = 0.1\n",
        "   output_list1.append(epochs)\n",
        "   output_list1.append(batchsize)\n",
        "   output_list1.append(learning_rate)\n",
        "   output_list1.append(optimizer)\n",
        "   output_list1.append(loss)\n",
        "   output_list1.append(metrics)\n",
        "   output_list1.append(validation_split)\n",
        "   return output_list1"
      ],
      "execution_count": 0,
      "outputs": []
    },
    {
      "metadata": {
        "id": "amA1jlV-MwFH",
        "colab_type": "code",
        "colab": {}
      },
      "cell_type": "code",
      "source": [
        "def CNN2():  \n",
        "   output_list2 = list()\n",
        "   epochs = 100\n",
        "   batchsize = 128\n",
        "   learning_rate = 0.001\n",
        "   optimizer = \"Adam\"\n",
        "   loss = 'categorical_crossentropy'\n",
        "   metrics = ['accuracy']\n",
        "   validation_split = 0.1\n",
        "   validation_split = 0.1\n",
        "   output_list2.append(epochs)\n",
        "   output_list2.append(batchsize)\n",
        "   output_list2.append(learning_rate)\n",
        "   output_list2.append(optimizer)\n",
        "   output_list2.append(loss)\n",
        "   output_list2.append(metrics)\n",
        "   output_list2.append(validation_split)\n",
        "   return output_list2"
      ],
      "execution_count": 0,
      "outputs": []
    },
    {
      "metadata": {
        "id": "g0LWyiDsMv7b",
        "colab_type": "code",
        "colab": {
          "base_uri": "https://localhost:8080/",
          "height": 52
        },
        "outputId": "4c2385ff-69a5-4543-881e-95dcac74f17c"
      },
      "cell_type": "code",
      "source": [
        "#Loading the Datasets\n",
        "(x_train, y_train), (x_test, y_test) = cifar10.load_data()"
      ],
      "execution_count": 5,
      "outputs": [
        {
          "output_type": "stream",
          "text": [
            "Downloading data from https://www.cs.toronto.edu/~kriz/cifar-10-python.tar.gz\n",
            "170500096/170498071 [==============================] - 49s 0us/step\n"
          ],
          "name": "stdout"
        }
      ]
    },
    {
      "metadata": {
        "id": "raJnoDsFMvyQ",
        "colab_type": "code",
        "colab": {}
      },
      "cell_type": "code",
      "source": [
        "x_train_cifar = x_train\n",
        "x_test_cifar = x_test\n",
        "y_train_cifar = y_train\n",
        "y_test_cifar = y_test"
      ],
      "execution_count": 0,
      "outputs": []
    },
    {
      "metadata": {
        "id": "jr1ZpowOMvjj",
        "colab_type": "code",
        "colab": {
          "base_uri": "https://localhost:8080/",
          "height": 52
        },
        "outputId": "c810e054-6d67-4d9b-d075-1421cf5a12f4"
      },
      "cell_type": "code",
      "source": [
        "x_train = x_train.reshape(50000, 3072)\n",
        "x_test = x_test.reshape(10000, 3072)\n",
        "x_train = x_train.astype('float32')\n",
        "x_test = x_test.astype('float32')\n",
        "x_train /= 255\n",
        "x_test /= 255\n",
        "print(x_train.shape[0], 'train samples')\n",
        "print(x_test.shape[0], 'test samples')"
      ],
      "execution_count": 7,
      "outputs": [
        {
          "output_type": "stream",
          "text": [
            "50000 train samples\n",
            "10000 test samples\n"
          ],
          "name": "stdout"
        }
      ]
    },
    {
      "metadata": {
        "id": "rmthSJ18KYDl",
        "colab_type": "code",
        "colab": {}
      },
      "cell_type": "code",
      "source": [
        "x_train_cifar = x_train_cifar.astype('float32')\n",
        "x_test_cifar = x_test_cifar.astype('float32')\n",
        "x_train_cifar /= 255\n",
        "x_test_cifar /= 255 "
      ],
      "execution_count": 0,
      "outputs": []
    },
    {
      "metadata": {
        "id": "XQ3Al8YEKeRE",
        "colab_type": "code",
        "colab": {}
      },
      "cell_type": "code",
      "source": [
        "\n",
        "  #Converting the labebels to onehot \n",
        "y_train = keras.utils.to_categorical(y_train, 10)\n",
        "y_test = keras.utils.to_categorical(y_test, 10)\n",
        "y_train_cifar = keras.utils.to_categorical(y_train_cifar, 10)\n",
        "y_test_cifar = keras.utils.to_categorical(y_test_cifar, 10)"
      ],
      "execution_count": 0,
      "outputs": []
    },
    {
      "metadata": {
        "id": "inRnCD6RNksc",
        "colab_type": "code",
        "colab": {}
      },
      "cell_type": "code",
      "source": [
        "#Callbacks \n",
        "callbacks_model1 = [\n",
        "        EarlyStopping(monitor='val_loss', patience=5, verbose=0),     \n",
        "        ReduceLROnPlateau(monitor='val_loss', factor=0.1, patience=3)]"
      ],
      "execution_count": 0,
      "outputs": []
    },
    {
      "metadata": {
        "id": "wCtJv_qINkk7",
        "colab_type": "code",
        "colab": {
          "base_uri": "https://localhost:8080/",
          "height": 1724
        },
        "outputId": "e1b3cd79-7d0b-4226-a246-5531288d5749"
      },
      "cell_type": "code",
      "source": [
        "model5 = Sequential()\n",
        "model5.add(Dense(2500,input_shape  = (3072,)))\n",
        "model5.add(BatchNormalization())\n",
        "model5.add(Activation('relu'))\n",
        "\n",
        "\n",
        "model5.add(Dense(1200, activation = 'relu'))\n",
        "model5.add(BatchNormalization())\n",
        "model5.add(Activation('relu'))\n",
        "\n",
        "model5.add(Dense(512, activation = 'relu'))\n",
        "model5.add(BatchNormalization())\n",
        "model5.add(Activation('relu'))\n",
        "\n",
        "model5.add(Dense(256, activation = 'relu'))\n",
        "model5.add(BatchNormalization())\n",
        "model5.add(Activation('relu'))\n",
        "\n",
        "\n",
        "model5.add(Dense(128, activation = 'relu'))\n",
        "model5.add(BatchNormalization())\n",
        "model5.add(Activation('relu'))\n",
        "\n",
        "\n",
        "model5.add(Dense(64, activation = 'relu'))\n",
        "model5.add(BatchNormalization())\n",
        "model5.add(Activation('relu'))\n",
        "\n",
        "\n",
        "model5.add(Dense(32, activation = 'relu'))\n",
        "model5.add(BatchNormalization())\n",
        "model5.add(Activation('relu'))\n",
        "\n",
        "\n",
        "model5.add(Dense(10, activation = 'softmax'))\n",
        "opt_model = optimizers.Adam(lr = MLP()[2])\n",
        "model5.compile(optimizer=opt_model,loss=MLP()[4],metrics=MLP()[5])\n",
        "model5.summary()\n",
        "history5 = model5.fit(x_train, y_train, epochs=MLP()[0], batch_size=MLP()[1], validation_split = MLP()[6],callbacks=callbacks_model1)"
      ],
      "execution_count": 12,
      "outputs": [
        {
          "output_type": "stream",
          "text": [
            "_________________________________________________________________\n",
            "Layer (type)                 Output Shape              Param #   \n",
            "=================================================================\n",
            "dense_8 (Dense)              (None, 2500)              7682500   \n",
            "_________________________________________________________________\n",
            "batch_normalization_7 (Batch (None, 2500)              10000     \n",
            "_________________________________________________________________\n",
            "activation_7 (Activation)    (None, 2500)              0         \n",
            "_________________________________________________________________\n",
            "dense_9 (Dense)              (None, 1200)              3001200   \n",
            "_________________________________________________________________\n",
            "batch_normalization_8 (Batch (None, 1200)              4800      \n",
            "_________________________________________________________________\n",
            "activation_8 (Activation)    (None, 1200)              0         \n",
            "_________________________________________________________________\n",
            "dense_10 (Dense)             (None, 512)               614912    \n",
            "_________________________________________________________________\n",
            "batch_normalization_9 (Batch (None, 512)               2048      \n",
            "_________________________________________________________________\n",
            "activation_9 (Activation)    (None, 512)               0         \n",
            "_________________________________________________________________\n",
            "dense_11 (Dense)             (None, 256)               131328    \n",
            "_________________________________________________________________\n",
            "batch_normalization_10 (Batc (None, 256)               1024      \n",
            "_________________________________________________________________\n",
            "activation_10 (Activation)   (None, 256)               0         \n",
            "_________________________________________________________________\n",
            "dense_12 (Dense)             (None, 128)               32896     \n",
            "_________________________________________________________________\n",
            "batch_normalization_11 (Batc (None, 128)               512       \n",
            "_________________________________________________________________\n",
            "activation_11 (Activation)   (None, 128)               0         \n",
            "_________________________________________________________________\n",
            "dense_13 (Dense)             (None, 64)                8256      \n",
            "_________________________________________________________________\n",
            "batch_normalization_12 (Batc (None, 64)                256       \n",
            "_________________________________________________________________\n",
            "activation_12 (Activation)   (None, 64)                0         \n",
            "_________________________________________________________________\n",
            "dense_14 (Dense)             (None, 32)                2080      \n",
            "_________________________________________________________________\n",
            "batch_normalization_13 (Batc (None, 32)                128       \n",
            "_________________________________________________________________\n",
            "activation_13 (Activation)   (None, 32)                0         \n",
            "_________________________________________________________________\n",
            "dense_15 (Dense)             (None, 10)                330       \n",
            "=================================================================\n",
            "Total params: 11,492,270\n",
            "Trainable params: 11,482,886\n",
            "Non-trainable params: 9,384\n",
            "_________________________________________________________________\n",
            "Train on 40000 samples, validate on 10000 samples\n",
            "Epoch 1/50\n",
            "40000/40000 [==============================] - 52s 1ms/step - loss: 2.0612 - acc: 0.2509 - val_loss: 1.9595 - val_acc: 0.3034\n",
            "Epoch 2/50\n",
            "40000/40000 [==============================] - 49s 1ms/step - loss: 1.8298 - acc: 0.3397 - val_loss: 1.7925 - val_acc: 0.3560\n",
            "Epoch 3/50\n",
            "40000/40000 [==============================] - 49s 1ms/step - loss: 1.7033 - acc: 0.3916 - val_loss: 1.6905 - val_acc: 0.3964\n",
            "Epoch 4/50\n",
            "40000/40000 [==============================] - 50s 1ms/step - loss: 1.6221 - acc: 0.4233 - val_loss: 1.7379 - val_acc: 0.3754\n",
            "Epoch 5/50\n",
            "40000/40000 [==============================] - 50s 1ms/step - loss: 1.5491 - acc: 0.4481 - val_loss: 2.0456 - val_acc: 0.3047\n",
            "Epoch 6/50\n",
            "40000/40000 [==============================] - 49s 1ms/step - loss: 1.4835 - acc: 0.4754 - val_loss: 1.5823 - val_acc: 0.4414\n",
            "Epoch 7/50\n",
            "40000/40000 [==============================] - 48s 1ms/step - loss: 1.4307 - acc: 0.4952 - val_loss: 1.5420 - val_acc: 0.4571\n",
            "Epoch 8/50\n",
            "40000/40000 [==============================] - 48s 1ms/step - loss: 1.3598 - acc: 0.5208 - val_loss: 1.7908 - val_acc: 0.3721\n",
            "Epoch 9/50\n",
            "40000/40000 [==============================] - 48s 1ms/step - loss: 1.3121 - acc: 0.5371 - val_loss: 1.4841 - val_acc: 0.4708\n",
            "Epoch 10/50\n",
            "40000/40000 [==============================] - 49s 1ms/step - loss: 1.2540 - acc: 0.5589 - val_loss: 1.6309 - val_acc: 0.4516\n",
            "Epoch 11/50\n",
            "40000/40000 [==============================] - 48s 1ms/step - loss: 1.2006 - acc: 0.5744 - val_loss: 1.4560 - val_acc: 0.5050\n",
            "Epoch 12/50\n",
            "40000/40000 [==============================] - 48s 1ms/step - loss: 1.1525 - acc: 0.5926 - val_loss: 1.4190 - val_acc: 0.5058\n",
            "Epoch 13/50\n",
            "40000/40000 [==============================] - 48s 1ms/step - loss: 1.0956 - acc: 0.6127 - val_loss: 1.4090 - val_acc: 0.5094\n",
            "Epoch 14/50\n",
            "40000/40000 [==============================] - 49s 1ms/step - loss: 1.0447 - acc: 0.6311 - val_loss: 1.4676 - val_acc: 0.4804\n",
            "Epoch 15/50\n",
            "40000/40000 [==============================] - 48s 1ms/step - loss: 0.9955 - acc: 0.6494 - val_loss: 1.4630 - val_acc: 0.4965\n",
            "Epoch 16/50\n",
            "40000/40000 [==============================] - 48s 1ms/step - loss: 0.9396 - acc: 0.6692 - val_loss: 1.6176 - val_acc: 0.4775\n",
            "Epoch 17/50\n",
            "40000/40000 [==============================] - 48s 1ms/step - loss: 0.7502 - acc: 0.7395 - val_loss: 1.2903 - val_acc: 0.5741\n",
            "Epoch 18/50\n",
            "40000/40000 [==============================] - 49s 1ms/step - loss: 0.6872 - acc: 0.7591 - val_loss: 1.3211 - val_acc: 0.5719\n",
            "Epoch 19/50\n",
            "40000/40000 [==============================] - 49s 1ms/step - loss: 0.6466 - acc: 0.7755 - val_loss: 1.3458 - val_acc: 0.5698\n",
            "Epoch 20/50\n",
            "40000/40000 [==============================] - 49s 1ms/step - loss: 0.6158 - acc: 0.7872 - val_loss: 1.3851 - val_acc: 0.5673\n",
            "Epoch 21/50\n",
            "40000/40000 [==============================] - 48s 1ms/step - loss: 0.5804 - acc: 0.7993 - val_loss: 1.3609 - val_acc: 0.5707\n",
            "Epoch 22/50\n",
            "40000/40000 [==============================] - 48s 1ms/step - loss: 0.5732 - acc: 0.7998 - val_loss: 1.3657 - val_acc: 0.5727\n"
          ],
          "name": "stdout"
        }
      ]
    },
    {
      "metadata": {
        "id": "rMTLDRhcbfE0",
        "colab_type": "code",
        "colab": {
          "base_uri": "https://localhost:8080/",
          "height": 52
        },
        "outputId": "b5134a27-a286-4e5f-99ae-9cbd5b76c809"
      },
      "cell_type": "code",
      "source": [
        "model5.evaluate(x_test, y_test)"
      ],
      "execution_count": 13,
      "outputs": [
        {
          "output_type": "stream",
          "text": [
            "10000/10000 [==============================] - 2s 179us/step\n"
          ],
          "name": "stdout"
        },
        {
          "output_type": "execute_result",
          "data": {
            "text/plain": [
              "[1.3596625467300416, 0.5712]"
            ]
          },
          "metadata": {
            "tags": []
          },
          "execution_count": 13
        }
      ]
    },
    {
      "metadata": {
        "id": "p2aw976NQz2e",
        "colab_type": "code",
        "colab": {
          "base_uri": "https://localhost:8080/",
          "height": 1226
        },
        "outputId": "8f0edb29-5e3d-442e-d8ea-4d204809c4f9"
      },
      "cell_type": "code",
      "source": [
        "#General \n",
        "model2 = Sequential()\n",
        "model2.add(Conv2D(32, (3, 3), activation='relu', input_shape=(32, 32, 3)))\n",
        "model2.add(MaxPooling2D((2, 2)))\n",
        "model2.add(Conv2D(64, (3, 3), activation='relu'))\n",
        "model2.add(MaxPooling2D((2, 2)))\n",
        "model2.add(Flatten())\n",
        "model2.add(Dense(64, activation='relu'))\n",
        "model2.add(Dense(10, activation='softmax'))\n",
        "opt_model = optimizers.Adam(lr=CNN()[2])\n",
        "model2.compile(optimizer=opt_model,loss=CNN()[4],metrics=CNN()[5])\n",
        "model2.summary()\n",
        "\n",
        "history2 = model2.fit(x_train_cifar, y_train_cifar, epochs=CNN()[0], batch_size=CNN()[1], validation_split = CNN()[6], callbacks = callbacks_model1)\n"
      ],
      "execution_count": 14,
      "outputs": [
        {
          "output_type": "stream",
          "text": [
            "_________________________________________________________________\n",
            "Layer (type)                 Output Shape              Param #   \n",
            "=================================================================\n",
            "conv2d_1 (Conv2D)            (None, 30, 30, 32)        896       \n",
            "_________________________________________________________________\n",
            "max_pooling2d_1 (MaxPooling2 (None, 15, 15, 32)        0         \n",
            "_________________________________________________________________\n",
            "conv2d_2 (Conv2D)            (None, 13, 13, 64)        18496     \n",
            "_________________________________________________________________\n",
            "max_pooling2d_2 (MaxPooling2 (None, 6, 6, 64)          0         \n",
            "_________________________________________________________________\n",
            "flatten_1 (Flatten)          (None, 2304)              0         \n",
            "_________________________________________________________________\n",
            "dense_16 (Dense)             (None, 64)                147520    \n",
            "_________________________________________________________________\n",
            "dense_17 (Dense)             (None, 10)                650       \n",
            "=================================================================\n",
            "Total params: 167,562\n",
            "Trainable params: 167,562\n",
            "Non-trainable params: 0\n",
            "_________________________________________________________________\n",
            "Train on 45000 samples, validate on 5000 samples\n",
            "Epoch 1/100\n",
            "45000/45000 [==============================] - 10s 216us/step - loss: 1.6943 - acc: 0.3766 - val_loss: 1.4466 - val_acc: 0.4724\n",
            "Epoch 2/100\n",
            "45000/45000 [==============================] - 8s 184us/step - loss: 1.4357 - acc: 0.4827 - val_loss: 1.3692 - val_acc: 0.5096\n",
            "Epoch 3/100\n",
            "45000/45000 [==============================] - 8s 184us/step - loss: 1.3802 - acc: 0.5066 - val_loss: 1.3496 - val_acc: 0.5136\n",
            "Epoch 4/100\n",
            "45000/45000 [==============================] - 8s 186us/step - loss: 1.3312 - acc: 0.5240 - val_loss: 1.3342 - val_acc: 0.5296\n",
            "Epoch 5/100\n",
            "45000/45000 [==============================] - 8s 185us/step - loss: 1.3028 - acc: 0.5374 - val_loss: 1.2753 - val_acc: 0.5556\n",
            "Epoch 6/100\n",
            "45000/45000 [==============================] - 8s 184us/step - loss: 1.2700 - acc: 0.5473 - val_loss: 1.3101 - val_acc: 0.5374\n",
            "Epoch 7/100\n",
            "45000/45000 [==============================] - 8s 185us/step - loss: 1.2516 - acc: 0.5573 - val_loss: 1.3097 - val_acc: 0.5406\n",
            "Epoch 8/100\n",
            "45000/45000 [==============================] - 8s 184us/step - loss: 1.2331 - acc: 0.5648 - val_loss: 1.3120 - val_acc: 0.5462\n",
            "Epoch 9/100\n",
            "45000/45000 [==============================] - 8s 185us/step - loss: 1.0968 - acc: 0.6103 - val_loss: 1.1802 - val_acc: 0.5908\n",
            "Epoch 10/100\n",
            "45000/45000 [==============================] - 8s 185us/step - loss: 1.0709 - acc: 0.6203 - val_loss: 1.1775 - val_acc: 0.5872\n",
            "Epoch 11/100\n",
            "45000/45000 [==============================] - 8s 184us/step - loss: 1.0611 - acc: 0.6218 - val_loss: 1.1700 - val_acc: 0.5942\n",
            "Epoch 12/100\n",
            "45000/45000 [==============================] - 8s 184us/step - loss: 1.0549 - acc: 0.6239 - val_loss: 1.1640 - val_acc: 0.5900\n",
            "Epoch 13/100\n",
            "45000/45000 [==============================] - 8s 184us/step - loss: 1.0481 - acc: 0.6264 - val_loss: 1.1703 - val_acc: 0.5918\n",
            "Epoch 14/100\n",
            "45000/45000 [==============================] - 8s 184us/step - loss: 1.0431 - acc: 0.6300 - val_loss: 1.1655 - val_acc: 0.5986\n",
            "Epoch 15/100\n",
            "45000/45000 [==============================] - 8s 184us/step - loss: 1.0383 - acc: 0.6306 - val_loss: 1.1606 - val_acc: 0.5968\n",
            "Epoch 16/100\n",
            "45000/45000 [==============================] - 8s 185us/step - loss: 1.0336 - acc: 0.6319 - val_loss: 1.1570 - val_acc: 0.5994\n",
            "Epoch 17/100\n",
            "45000/45000 [==============================] - 8s 183us/step - loss: 1.0288 - acc: 0.6349 - val_loss: 1.1643 - val_acc: 0.5992\n",
            "Epoch 18/100\n",
            "45000/45000 [==============================] - 8s 185us/step - loss: 1.0243 - acc: 0.6367 - val_loss: 1.1548 - val_acc: 0.6036\n",
            "Epoch 19/100\n",
            "45000/45000 [==============================] - 8s 184us/step - loss: 1.0231 - acc: 0.6374 - val_loss: 1.1609 - val_acc: 0.5978\n",
            "Epoch 20/100\n",
            "45000/45000 [==============================] - 8s 183us/step - loss: 1.0192 - acc: 0.6382 - val_loss: 1.1745 - val_acc: 0.5944\n",
            "Epoch 21/100\n",
            "45000/45000 [==============================] - 8s 184us/step - loss: 1.0165 - acc: 0.6405 - val_loss: 1.1707 - val_acc: 0.5966\n",
            "Epoch 22/100\n",
            "45000/45000 [==============================] - 8s 184us/step - loss: 0.9932 - acc: 0.6479 - val_loss: 1.1555 - val_acc: 0.6056\n",
            "Epoch 23/100\n",
            "45000/45000 [==============================] - 8s 183us/step - loss: 0.9912 - acc: 0.6483 - val_loss: 1.1569 - val_acc: 0.6046\n"
          ],
          "name": "stdout"
        }
      ]
    },
    {
      "metadata": {
        "id": "oL6vp1geNkcs",
        "colab_type": "code",
        "colab": {
          "base_uri": "https://localhost:8080/",
          "height": 1226
        },
        "outputId": "0e416289-3bef-41a9-f0df-32dfd6dd6a75"
      },
      "cell_type": "code",
      "source": [
        "#General \n",
        "model3 = Sequential()\n",
        "model3.add(Conv2D(32, (3, 3), activation='relu', input_shape=(32, 32, 3)))\n",
        "model3.add(MaxPooling2D((2, 2)))\n",
        "model3.add(Conv2D(64, (3, 3), activation='relu'))\n",
        "model3.add(MaxPooling2D((2, 2)))\n",
        "model3.add(Flatten())\n",
        "model3.add(Dense(64, activation='relu'))\n",
        "model3.add(Dense(10, activation='softmax'))\n",
        "opt_model = optimizers.Adam(lr=CNN2()[2])\n",
        "model3.compile(optimizer=opt_model,loss=CNN2()[4],metrics=CNN2()[5])\n",
        "model3.summary()\n",
        "\n",
        "history3 = model3.fit(x_train_cifar, y_train_cifar, epochs=CNN2()[0], batch_size=CNN2()[1], validation_split = CNN2()[6], callbacks = callbacks_model1)"
      ],
      "execution_count": 17,
      "outputs": [
        {
          "output_type": "stream",
          "text": [
            "_________________________________________________________________\n",
            "Layer (type)                 Output Shape              Param #   \n",
            "=================================================================\n",
            "conv2d_5 (Conv2D)            (None, 30, 30, 32)        896       \n",
            "_________________________________________________________________\n",
            "max_pooling2d_5 (MaxPooling2 (None, 15, 15, 32)        0         \n",
            "_________________________________________________________________\n",
            "conv2d_6 (Conv2D)            (None, 13, 13, 64)        18496     \n",
            "_________________________________________________________________\n",
            "max_pooling2d_6 (MaxPooling2 (None, 6, 6, 64)          0         \n",
            "_________________________________________________________________\n",
            "flatten_3 (Flatten)          (None, 2304)              0         \n",
            "_________________________________________________________________\n",
            "dense_20 (Dense)             (None, 64)                147520    \n",
            "_________________________________________________________________\n",
            "dense_21 (Dense)             (None, 10)                650       \n",
            "=================================================================\n",
            "Total params: 167,562\n",
            "Trainable params: 167,562\n",
            "Non-trainable params: 0\n",
            "_________________________________________________________________\n",
            "Train on 45000 samples, validate on 5000 samples\n",
            "Epoch 1/100\n",
            "45000/45000 [==============================] - 6s 142us/step - loss: 1.6119 - acc: 0.4189 - val_loss: 1.3490 - val_acc: 0.5162\n",
            "Epoch 2/100\n",
            "45000/45000 [==============================] - 6s 125us/step - loss: 1.2672 - acc: 0.5509 - val_loss: 1.1649 - val_acc: 0.5970\n",
            "Epoch 3/100\n",
            "45000/45000 [==============================] - 6s 125us/step - loss: 1.1368 - acc: 0.6035 - val_loss: 1.0786 - val_acc: 0.6312\n",
            "Epoch 4/100\n",
            "45000/45000 [==============================] - 6s 125us/step - loss: 1.0442 - acc: 0.6365 - val_loss: 1.0229 - val_acc: 0.6430\n",
            "Epoch 5/100\n",
            "45000/45000 [==============================] - 6s 126us/step - loss: 0.9934 - acc: 0.6531 - val_loss: 0.9930 - val_acc: 0.6604\n",
            "Epoch 6/100\n",
            "45000/45000 [==============================] - 6s 125us/step - loss: 0.9379 - acc: 0.6745 - val_loss: 0.9710 - val_acc: 0.6654\n",
            "Epoch 7/100\n",
            "45000/45000 [==============================] - 6s 125us/step - loss: 0.8885 - acc: 0.6931 - val_loss: 0.9889 - val_acc: 0.6516\n",
            "Epoch 8/100\n",
            "45000/45000 [==============================] - 6s 125us/step - loss: 0.8532 - acc: 0.7043 - val_loss: 0.9166 - val_acc: 0.6880\n",
            "Epoch 9/100\n",
            "45000/45000 [==============================] - 6s 125us/step - loss: 0.8123 - acc: 0.7198 - val_loss: 0.8793 - val_acc: 0.6978\n",
            "Epoch 10/100\n",
            "45000/45000 [==============================] - 6s 125us/step - loss: 0.7790 - acc: 0.7282 - val_loss: 0.8973 - val_acc: 0.6954\n",
            "Epoch 11/100\n",
            "45000/45000 [==============================] - 6s 125us/step - loss: 0.7488 - acc: 0.7413 - val_loss: 0.8875 - val_acc: 0.7036\n",
            "Epoch 12/100\n",
            "45000/45000 [==============================] - 6s 125us/step - loss: 0.7151 - acc: 0.7526 - val_loss: 0.9103 - val_acc: 0.6930\n",
            "Epoch 13/100\n",
            "45000/45000 [==============================] - 6s 125us/step - loss: 0.6228 - acc: 0.7873 - val_loss: 0.8426 - val_acc: 0.7168\n",
            "Epoch 14/100\n",
            "45000/45000 [==============================] - 6s 125us/step - loss: 0.6074 - acc: 0.7933 - val_loss: 0.8397 - val_acc: 0.7192\n",
            "Epoch 15/100\n",
            "45000/45000 [==============================] - 6s 125us/step - loss: 0.5999 - acc: 0.7956 - val_loss: 0.8396 - val_acc: 0.7190\n",
            "Epoch 16/100\n",
            "45000/45000 [==============================] - 6s 126us/step - loss: 0.5946 - acc: 0.7970 - val_loss: 0.8473 - val_acc: 0.7154\n",
            "Epoch 17/100\n",
            "45000/45000 [==============================] - 6s 126us/step - loss: 0.5888 - acc: 0.7986 - val_loss: 0.8403 - val_acc: 0.7220\n",
            "Epoch 18/100\n",
            "45000/45000 [==============================] - 6s 126us/step - loss: 0.5759 - acc: 0.8040 - val_loss: 0.8358 - val_acc: 0.7232\n",
            "Epoch 19/100\n",
            "45000/45000 [==============================] - 6s 125us/step - loss: 0.5747 - acc: 0.8054 - val_loss: 0.8360 - val_acc: 0.7232\n",
            "Epoch 20/100\n",
            "45000/45000 [==============================] - 6s 125us/step - loss: 0.5741 - acc: 0.8055 - val_loss: 0.8362 - val_acc: 0.7238\n",
            "Epoch 21/100\n",
            "45000/45000 [==============================] - 6s 126us/step - loss: 0.5733 - acc: 0.8059 - val_loss: 0.8358 - val_acc: 0.7218\n",
            "Epoch 22/100\n",
            "45000/45000 [==============================] - 6s 125us/step - loss: 0.5719 - acc: 0.8060 - val_loss: 0.8360 - val_acc: 0.7226\n",
            "Epoch 23/100\n",
            "45000/45000 [==============================] - 6s 124us/step - loss: 0.5718 - acc: 0.8062 - val_loss: 0.8360 - val_acc: 0.7234\n"
          ],
          "name": "stdout"
        }
      ]
    },
    {
      "metadata": {
        "id": "iz_Sz52yNkT-",
        "colab_type": "code",
        "colab": {
          "base_uri": "https://localhost:8080/",
          "height": 52
        },
        "outputId": "24faa89e-8e99-4588-fce7-6b20f24fba73"
      },
      "cell_type": "code",
      "source": [
        "model2.evaluate(x_test_cifar, y_test_cifar)"
      ],
      "execution_count": 16,
      "outputs": [
        {
          "output_type": "stream",
          "text": [
            "10000/10000 [==============================] - 1s 121us/step\n"
          ],
          "name": "stdout"
        },
        {
          "output_type": "execute_result",
          "data": {
            "text/plain": [
              "[0.8917551859855651, 0.7131]"
            ]
          },
          "metadata": {
            "tags": []
          },
          "execution_count": 16
        }
      ]
    }
  ]
}