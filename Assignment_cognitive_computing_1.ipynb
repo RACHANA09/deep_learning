{
  "nbformat": 4,
  "nbformat_minor": 0,
  "metadata": {
    "colab": {
      "name": "Assignment_cognitive_computing-1.ipynb",
      "version": "0.3.2",
      "provenance": [],
      "collapsed_sections": []
    },
    "kernelspec": {
      "name": "python3",
      "display_name": "Python 3"
    },
    "accelerator": "GPU"
  },
  "cells": [
    {
      "metadata": {
        "id": "UnpqHp6kG5pt",
        "colab_type": "code",
        "colab": {
          "base_uri": "https://localhost:8080/",
          "height": 34
        },
        "outputId": "769629cf-7a6d-41d2-88ed-9ee421f04eff"
      },
      "cell_type": "code",
      "source": [
        "import pandas as pd\n",
        "import numpy as np\n",
        "import tensorflow as tf\n",
        "import keras\n",
        "from keras.datasets import cifar10, mnist\n",
        "from keras import layers \n",
        "from keras.layers import Dense, Reshape, Dropout,Conv2D,MaxPooling2D,Flatten,BatchNormalization,Activation\n",
        "from keras import Sequential\n",
        "from keras import optimizers\n",
        "from keras.callbacks import EarlyStopping, ModelCheckpoint, TensorBoard,ReduceLROnPlateau\n",
        "from keras.models import load_model\n",
        "import matplotlib.pyplot as plt\n",
        "from keras.models import load_model\n",
        "\n"
      ],
      "execution_count": 2,
      "outputs": [
        {
          "output_type": "stream",
          "text": [
            "Using TensorFlow backend.\n"
          ],
          "name": "stderr"
        }
      ]
    },
    {
      "metadata": {
        "id": "Jyd64XDBHOlG",
        "colab_type": "code",
        "colab": {
          "base_uri": "https://localhost:8080/",
          "height": 51
        },
        "outputId": "443f9fc4-26d9-48c4-8dfc-0915068c1f1d"
      },
      "cell_type": "code",
      "source": [
        "#Loading the Datasets\n",
        "(x_train, y_train), (x_test, y_test) = cifar10.load_data()"
      ],
      "execution_count": 3,
      "outputs": [
        {
          "output_type": "stream",
          "text": [
            "Downloading data from https://www.cs.toronto.edu/~kriz/cifar-10-python.tar.gz\n",
            "170500096/170498071 [==============================] - 307s 2us/step\n"
          ],
          "name": "stdout"
        }
      ]
    },
    {
      "metadata": {
        "id": "TrUAhWP1HOoQ",
        "colab_type": "code",
        "colab": {}
      },
      "cell_type": "code",
      "source": [
        "x_train_cifar = x_train\n",
        "x_test_cifar = x_test\n",
        "y_train_cifar = y_train\n",
        "y_test_cifar = y_test"
      ],
      "execution_count": 0,
      "outputs": []
    },
    {
      "metadata": {
        "id": "JLlIb8xFHOrw",
        "colab_type": "code",
        "colab": {
          "base_uri": "https://localhost:8080/",
          "height": 51
        },
        "outputId": "affa72da-40bb-499d-f399-0236b89b78a3"
      },
      "cell_type": "code",
      "source": [
        "x_train = x_train.reshape(50000, 3072)\n",
        "x_test = x_test.reshape(10000, 3072)\n",
        "x_train = x_train.astype('float32')\n",
        "x_test = x_test.astype('float32')\n",
        "x_train /= 255\n",
        "x_test /= 255\n",
        "print(x_train.shape[0], 'train samples')\n",
        "print(x_test.shape[0], 'test samples')"
      ],
      "execution_count": 5,
      "outputs": [
        {
          "output_type": "stream",
          "text": [
            "50000 train samples\n",
            "10000 test samples\n"
          ],
          "name": "stdout"
        }
      ]
    },
    {
      "metadata": {
        "id": "bR-gmCcxHOuv",
        "colab_type": "code",
        "colab": {}
      },
      "cell_type": "code",
      "source": [
        "x_train_cifar = x_train_cifar.astype('float32')\n",
        "x_test_cifar = x_test_cifar.astype('float32')\n",
        "x_train_cifar /= 255+\n",
        "x_test_cifar /= 255"
      ],
      "execution_count": 0,
      "outputs": []
    },
    {
      "metadata": {
        "id": "GBogCD6dHOyF",
        "colab_type": "code",
        "colab": {}
      },
      "cell_type": "code",
      "source": [
        "#Converting the labebels to onehot \n",
        "y_train = keras.utils.to_categorical(y_train, 10)\n",
        "y_test = keras.utils.to_categorical(y_test, 10)\n",
        "y_train_cifar = keras.utils.to_categorical(y_train_cifar, 10)\n",
        "y_test_cifar = keras.utils.to_categorical(y_test_cifar, 10)"
      ],
      "execution_count": 0,
      "outputs": []
    },
    {
      "metadata": {
        "id": "cEBv2djjHfis",
        "colab_type": "code",
        "colab": {}
      },
      "cell_type": "code",
      "source": [
        "#Callbacks \n",
        "callbacks_model1 = [\n",
        "        EarlyStopping(monitor='val_loss', patience=5, verbose=0),     \n",
        "        ReduceLROnPlateau(monitor='val_loss', factor=0.1, patience=3)]"
      ],
      "execution_count": 0,
      "outputs": []
    },
    {
      "metadata": {
        "id": "C_Tsh3V7kGtG",
        "colab_type": "text"
      },
      "cell_type": "markdown",
      "source": [
        "Basic Feed Forward Nueral Netwok with 20 epochs and 128 batch size "
      ]
    },
    {
      "metadata": {
        "id": "k4YHuZnkhY_l",
        "colab_type": "code",
        "colab": {
          "base_uri": "https://localhost:8080/",
          "height": 1003
        },
        "outputId": "b0c235be-3c20-4101-98ec-b0fbde967538"
      },
      "cell_type": "code",
      "source": [
        "#Sample Model \n",
        "model8 = Sequential()\n",
        "model8.add(Dense(1024, activation='relu', input_shape=(3072,)))\n",
        "model8.add(Dense(512, activation='relu'))\n",
        "#model8.add(Dense(256, activation='relu'))\n",
        "model8.add(Dense(128, activation='relu'))\n",
        "model8.add(Dense(64, activation='relu'))\n",
        "model8.add(Dense(10, activation='softmax'))\n",
        "model8.compile(optimizer='rmsprop',loss='categorical_crossentropy',metrics=['accuracy'])\n",
        "model8.summary()\n",
        "history8 = model8.fit(x_train,y_train,epochs=20,batch_size=128,validation_split = 0.1)"
      ],
      "execution_count": 14,
      "outputs": [
        {
          "output_type": "stream",
          "text": [
            "_________________________________________________________________\n",
            "Layer (type)                 Output Shape              Param #   \n",
            "=================================================================\n",
            "dense_3 (Dense)              (None, 1024)              3146752   \n",
            "_________________________________________________________________\n",
            "dense_4 (Dense)              (None, 512)               524800    \n",
            "_________________________________________________________________\n",
            "dense_5 (Dense)              (None, 128)               65664     \n",
            "_________________________________________________________________\n",
            "dense_6 (Dense)              (None, 64)                8256      \n",
            "_________________________________________________________________\n",
            "dense_7 (Dense)              (None, 10)                650       \n",
            "=================================================================\n",
            "Total params: 3,746,122\n",
            "Trainable params: 3,746,122\n",
            "Non-trainable params: 0\n",
            "_________________________________________________________________\n",
            "Train on 45000 samples, validate on 5000 samples\n",
            "Epoch 1/20\n",
            "45000/45000 [==============================] - 31s 684us/step - loss: 2.1940 - acc: 0.2301 - val_loss: 1.9706 - val_acc: 0.2826\n",
            "Epoch 2/20\n",
            "45000/45000 [==============================] - 30s 672us/step - loss: 1.8443 - acc: 0.3332 - val_loss: 1.8868 - val_acc: 0.3176\n",
            "Epoch 3/20\n",
            "45000/45000 [==============================] - 31s 684us/step - loss: 1.7422 - acc: 0.3768 - val_loss: 1.7288 - val_acc: 0.3766\n",
            "Epoch 4/20\n",
            "45000/45000 [==============================] - 30s 671us/step - loss: 1.6758 - acc: 0.3971 - val_loss: 1.6874 - val_acc: 0.3968\n",
            "Epoch 5/20\n",
            "45000/45000 [==============================] - 30s 673us/step - loss: 1.6202 - acc: 0.4230 - val_loss: 1.6195 - val_acc: 0.4274\n",
            "Epoch 6/20\n",
            "45000/45000 [==============================] - 30s 678us/step - loss: 1.5755 - acc: 0.4374 - val_loss: 1.6162 - val_acc: 0.4218\n",
            "Epoch 7/20\n",
            "45000/45000 [==============================] - 30s 673us/step - loss: 1.5393 - acc: 0.4503 - val_loss: 1.6726 - val_acc: 0.4216\n",
            "Epoch 8/20\n",
            "45000/45000 [==============================] - 30s 673us/step - loss: 1.5068 - acc: 0.4640 - val_loss: 1.5984 - val_acc: 0.4322\n",
            "Epoch 9/20\n",
            "45000/45000 [==============================] - 30s 674us/step - loss: 1.4690 - acc: 0.4752 - val_loss: 1.5818 - val_acc: 0.4382\n",
            "Epoch 10/20\n",
            "45000/45000 [==============================] - 31s 678us/step - loss: 1.4385 - acc: 0.4856 - val_loss: 1.6672 - val_acc: 0.4098\n",
            "Epoch 11/20\n",
            "45000/45000 [==============================] - 30s 676us/step - loss: 1.4110 - acc: 0.4963 - val_loss: 1.5141 - val_acc: 0.4632\n",
            "Epoch 12/20\n",
            "45000/45000 [==============================] - 30s 674us/step - loss: 1.3847 - acc: 0.5053 - val_loss: 1.5701 - val_acc: 0.4624\n",
            "Epoch 13/20\n",
            "45000/45000 [==============================] - 31s 688us/step - loss: 1.3601 - acc: 0.5171 - val_loss: 1.5009 - val_acc: 0.4762\n",
            "Epoch 14/20\n",
            "45000/45000 [==============================] - 30s 675us/step - loss: 1.3303 - acc: 0.5260 - val_loss: 1.4588 - val_acc: 0.4910\n",
            "Epoch 15/20\n",
            "45000/45000 [==============================] - 30s 675us/step - loss: 1.3057 - acc: 0.5350 - val_loss: 1.5187 - val_acc: 0.4712\n",
            "Epoch 16/20\n",
            "45000/45000 [==============================] - 31s 681us/step - loss: 1.2815 - acc: 0.5400 - val_loss: 1.4546 - val_acc: 0.4970\n",
            "Epoch 17/20\n",
            "45000/45000 [==============================] - 31s 689us/step - loss: 1.2639 - acc: 0.5487 - val_loss: 1.5080 - val_acc: 0.4870\n",
            "Epoch 18/20\n",
            "45000/45000 [==============================] - 31s 689us/step - loss: 1.2439 - acc: 0.5592 - val_loss: 1.4638 - val_acc: 0.5046\n",
            "Epoch 19/20\n",
            "45000/45000 [==============================] - 31s 686us/step - loss: 1.2207 - acc: 0.5645 - val_loss: 1.6109 - val_acc: 0.4806\n",
            "Epoch 20/20\n",
            "45000/45000 [==============================] - 31s 692us/step - loss: 1.2047 - acc: 0.5684 - val_loss: 1.5891 - val_acc: 0.4896\n"
          ],
          "name": "stdout"
        }
      ]
    },
    {
      "metadata": {
        "id": "X96wuBbGi1LQ",
        "colab_type": "code",
        "colab": {
          "base_uri": "https://localhost:8080/",
          "height": 376
        },
        "outputId": "3d577284-63f8-4f9e-eef8-eea8680ed887"
      },
      "cell_type": "code",
      "source": [
        "loss = history8.history['loss']\n",
        "val_loss = history8.history['val_loss']\n",
        "epochs = range(1, len(loss) + 1)\n",
        "plt.plot(epochs, loss, 'bo', label='Training loss')\n",
        "plt.plot(epochs, val_loss, 'b', label='Validation loss')\n",
        "plt.title('Training and validation loss')\n",
        "plt.xlabel('Epochs')\n",
        "plt.ylabel('Loss')\n",
        "plt.legend()\n",
        "plt.show()"
      ],
      "execution_count": 15,
      "outputs": [
        {
          "output_type": "display_data",
          "data": {
            "image/png": "[encoded data removed]",
            "text/plain": [
              "<matplotlib.figure.Figure at 0x7fbda99df470>"
            ]
          },
          "metadata": {
            "tags": []
          }
        }
      ]
    },
    {
      "metadata": {
        "id": "TJRGgRRVheS2",
        "colab_type": "code",
        "colab": {
          "base_uri": "https://localhost:8080/",
          "height": 51
        },
        "outputId": "a730f9d7-2808-4dbe-e38a-37fac41bf1ba"
      },
      "cell_type": "code",
      "source": [
        "model8.evaluate(x_test,y_test)"
      ],
      "execution_count": 18,
      "outputs": [
        {
          "output_type": "stream",
          "text": [
            "10000/10000 [==============================] - 4s 351us/step\n"
          ],
          "name": "stdout"
        },
        {
          "output_type": "execute_result",
          "data": {
            "text/plain": [
              "[1.5783538208007812, 0.4922]"
            ]
          },
          "metadata": {
            "tags": []
          },
          "execution_count": 18
        }
      ]
    },
    {
      "metadata": {
        "id": "H0QREPIJI16a",
        "colab_type": "text"
      },
      "cell_type": "markdown",
      "source": [
        " Keras model with 5 hidden layers, 100 epochs, 32 batch size"
      ]
    },
    {
      "metadata": {
        "id": "_YzDQ6-XHfmC",
        "colab_type": "code",
        "colab": {
          "base_uri": "https://localhost:8080/",
          "height": 3757
        },
        "outputId": "aa90d7e9-c31f-4c8d-fb29-c06a133cffc2"
      },
      "cell_type": "code",
      "source": [
        "#Sample Model \n",
        "model6 = Sequential()\n",
        "model6.add(Dense(1024, activation='relu', input_shape=(3072,)))\n",
        "model6.add(Dense(512, activation='relu'))\n",
        "model6.add(Dense(256, activation='relu'))\n",
        "model6.add(Dense(128, activation='relu'))\n",
        "model6.add(Dense(64, activation='relu'))\n",
        "model6.add(Dense(10, activation='softmax'))\n",
        "model6.compile(optimizer='rmsprop',loss='categorical_crossentropy',metrics=['accuracy'])\n",
        "model6.summary()\n",
        "history6 = model6.fit(x_train,y_train,epochs=100,batch_size=32,validation_split = 0.1)\n"
      ],
      "execution_count": 8,
      "outputs": [
        {
          "output_type": "stream",
          "text": [
            "_________________________________________________________________\n",
            "Layer (type)                 Output Shape              Param #   \n",
            "=================================================================\n",
            "dense_1 (Dense)              (None, 1024)              3146752   \n",
            "_________________________________________________________________\n",
            "dense_2 (Dense)              (None, 512)               524800    \n",
            "_________________________________________________________________\n",
            "dense_3 (Dense)              (None, 256)               131328    \n",
            "_________________________________________________________________\n",
            "dense_4 (Dense)              (None, 128)               32896     \n",
            "_________________________________________________________________\n",
            "dense_5 (Dense)              (None, 64)                8256      \n",
            "_________________________________________________________________\n",
            "dense_6 (Dense)              (None, 10)                650       \n",
            "=================================================================\n",
            "Total params: 3,844,682\n",
            "Trainable params: 3,844,682\n",
            "Non-trainable params: 0\n",
            "_________________________________________________________________\n",
            "Train on 45000 samples, validate on 5000 samples\n",
            "Epoch 1/100\n",
            "45000/45000 [==============================] - 91s 2ms/step - loss: 1.9811 - acc: 0.2810 - val_loss: 1.9532 - val_acc: 0.2986\n",
            "Epoch 2/100\n",
            "45000/45000 [==============================] - 90s 2ms/step - loss: 1.7634 - acc: 0.3641 - val_loss: 1.8334 - val_acc: 0.3518\n",
            "Epoch 3/100\n",
            "45000/45000 [==============================] - 92s 2ms/step - loss: 1.6861 - acc: 0.3980 - val_loss: 1.7153 - val_acc: 0.3964\n",
            "Epoch 4/100\n",
            "45000/45000 [==============================] - 91s 2ms/step - loss: 1.6459 - acc: 0.4118 - val_loss: 1.6704 - val_acc: 0.4092\n",
            "Epoch 5/100\n",
            "45000/45000 [==============================] - 91s 2ms/step - loss: 1.6164 - acc: 0.4264 - val_loss: 1.9016 - val_acc: 0.3610\n",
            "Epoch 6/100\n",
            "45000/45000 [==============================] - 92s 2ms/step - loss: 1.6048 - acc: 0.4316 - val_loss: 1.7938 - val_acc: 0.3796\n",
            "Epoch 7/100\n",
            "45000/45000 [==============================] - 91s 2ms/step - loss: 1.5911 - acc: 0.4391 - val_loss: 1.6278 - val_acc: 0.4238\n",
            "Epoch 8/100\n",
            "45000/45000 [==============================] - 91s 2ms/step - loss: 1.5895 - acc: 0.4426 - val_loss: 1.6933 - val_acc: 0.4142\n",
            "Epoch 9/100\n",
            "45000/45000 [==============================] - 91s 2ms/step - loss: 1.5798 - acc: 0.4462 - val_loss: 1.8179 - val_acc: 0.3988\n",
            "Epoch 10/100\n",
            "45000/45000 [==============================] - 92s 2ms/step - loss: 1.5786 - acc: 0.4487 - val_loss: 2.2182 - val_acc: 0.3406\n",
            "Epoch 11/100\n",
            "45000/45000 [==============================] - 91s 2ms/step - loss: 1.5805 - acc: 0.4496 - val_loss: 1.8975 - val_acc: 0.3894\n",
            "Epoch 12/100\n",
            "45000/45000 [==============================] - 91s 2ms/step - loss: 1.5762 - acc: 0.4526 - val_loss: 1.6033 - val_acc: 0.4496\n",
            "Epoch 13/100\n",
            "45000/45000 [==============================] - 92s 2ms/step - loss: 1.5653 - acc: 0.4593 - val_loss: 1.7225 - val_acc: 0.4336\n",
            "Epoch 14/100\n",
            "45000/45000 [==============================] - 89s 2ms/step - loss: 1.5664 - acc: 0.4593 - val_loss: 1.7886 - val_acc: 0.4036\n",
            "Epoch 15/100\n",
            "45000/45000 [==============================] - 89s 2ms/step - loss: 1.5628 - acc: 0.4630 - val_loss: 2.2213 - val_acc: 0.3806\n",
            "Epoch 16/100\n",
            "45000/45000 [==============================] - 88s 2ms/step - loss: 1.5640 - acc: 0.4646 - val_loss: 2.2948 - val_acc: 0.3020\n",
            "Epoch 17/100\n",
            "45000/45000 [==============================] - 88s 2ms/step - loss: 1.5698 - acc: 0.4601 - val_loss: 1.8894 - val_acc: 0.3774\n",
            "Epoch 18/100\n",
            "45000/45000 [==============================] - 88s 2ms/step - loss: 1.5688 - acc: 0.4594 - val_loss: 1.7422 - val_acc: 0.3994\n",
            "Epoch 19/100\n",
            "45000/45000 [==============================] - 88s 2ms/step - loss: 1.5827 - acc: 0.4593 - val_loss: 2.0294 - val_acc: 0.3670\n",
            "Epoch 20/100\n",
            "45000/45000 [==============================] - 90s 2ms/step - loss: 1.5765 - acc: 0.4581 - val_loss: 1.9704 - val_acc: 0.4198\n",
            "Epoch 21/100\n",
            "45000/45000 [==============================] - 89s 2ms/step - loss: 1.5780 - acc: 0.4618 - val_loss: 1.6731 - val_acc: 0.4228\n",
            "Epoch 22/100\n",
            "45000/45000 [==============================] - 90s 2ms/step - loss: 1.5775 - acc: 0.4593 - val_loss: 1.8127 - val_acc: 0.3988\n",
            "Epoch 23/100\n",
            "45000/45000 [==============================] - 90s 2ms/step - loss: 1.5668 - acc: 0.4632 - val_loss: 1.9369 - val_acc: 0.3858\n",
            "Epoch 24/100\n",
            "45000/45000 [==============================] - 91s 2ms/step - loss: 1.5693 - acc: 0.4616 - val_loss: 1.8402 - val_acc: 0.3826\n",
            "Epoch 25/100\n",
            "45000/45000 [==============================] - 90s 2ms/step - loss: 1.5651 - acc: 0.4630 - val_loss: 1.6827 - val_acc: 0.4238\n",
            "Epoch 26/100\n",
            "45000/45000 [==============================] - 90s 2ms/step - loss: 1.5654 - acc: 0.4636 - val_loss: 2.0893 - val_acc: 0.4128\n",
            "Epoch 27/100\n",
            "45000/45000 [==============================] - 91s 2ms/step - loss: 1.5620 - acc: 0.4674 - val_loss: 2.1824 - val_acc: 0.3294\n",
            "Epoch 28/100\n",
            "45000/45000 [==============================] - 90s 2ms/step - loss: 1.5782 - acc: 0.4665 - val_loss: 1.8722 - val_acc: 0.3924\n",
            "Epoch 29/100\n",
            "45000/45000 [==============================] - 89s 2ms/step - loss: 1.5774 - acc: 0.4664 - val_loss: 2.3874 - val_acc: 0.3710\n",
            "Epoch 30/100\n",
            "45000/45000 [==============================] - 90s 2ms/step - loss: 1.5694 - acc: 0.4675 - val_loss: 1.6376 - val_acc: 0.4330\n",
            "Epoch 31/100\n",
            "45000/45000 [==============================] - 91s 2ms/step - loss: 1.5701 - acc: 0.4631 - val_loss: 1.6793 - val_acc: 0.4320\n",
            "Epoch 32/100\n",
            "45000/45000 [==============================] - 90s 2ms/step - loss: 1.5846 - acc: 0.4656 - val_loss: 1.9973 - val_acc: 0.3790\n",
            "Epoch 33/100\n",
            "45000/45000 [==============================] - 90s 2ms/step - loss: 1.5819 - acc: 0.4713 - val_loss: 1.9468 - val_acc: 0.3736\n",
            "Epoch 34/100\n",
            "45000/45000 [==============================] - 92s 2ms/step - loss: 1.5753 - acc: 0.4700 - val_loss: 1.8610 - val_acc: 0.3798\n",
            "Epoch 35/100\n",
            "45000/45000 [==============================] - 90s 2ms/step - loss: 1.5926 - acc: 0.4690 - val_loss: 2.0232 - val_acc: 0.3374\n",
            "Epoch 36/100\n",
            "45000/45000 [==============================] - 90s 2ms/step - loss: 1.5912 - acc: 0.4682 - val_loss: 1.6901 - val_acc: 0.4032\n",
            "Epoch 37/100\n",
            "45000/45000 [==============================] - 91s 2ms/step - loss: 1.6393 - acc: 0.4577 - val_loss: 2.0012 - val_acc: 0.3798\n",
            "Epoch 38/100\n",
            "45000/45000 [==============================] - 91s 2ms/step - loss: 1.6061 - acc: 0.4598 - val_loss: 1.7161 - val_acc: 0.4478\n",
            "Epoch 39/100\n",
            "45000/45000 [==============================] - 90s 2ms/step - loss: 1.6149 - acc: 0.4614 - val_loss: 1.8103 - val_acc: 0.3658\n",
            "Epoch 40/100\n",
            "45000/45000 [==============================] - 91s 2ms/step - loss: 1.5911 - acc: 0.4642 - val_loss: 1.7396 - val_acc: 0.4480\n",
            "Epoch 41/100\n",
            "45000/45000 [==============================] - 90s 2ms/step - loss: 1.5760 - acc: 0.4663 - val_loss: 2.0720 - val_acc: 0.3884\n",
            "Epoch 42/100\n",
            "45000/45000 [==============================] - 89s 2ms/step - loss: 1.6130 - acc: 0.4625 - val_loss: 2.6730 - val_acc: 0.3126\n",
            "Epoch 43/100\n",
            "45000/45000 [==============================] - 89s 2ms/step - loss: 1.6324 - acc: 0.4563 - val_loss: 2.0989 - val_acc: 0.3770\n",
            "Epoch 44/100\n",
            "45000/45000 [==============================] - 90s 2ms/step - loss: 1.7126 - acc: 0.4511 - val_loss: 2.4334 - val_acc: 0.3222\n",
            "Epoch 45/100\n",
            "45000/45000 [==============================] - 89s 2ms/step - loss: 1.6073 - acc: 0.4530 - val_loss: 2.4319 - val_acc: 0.3800\n",
            "Epoch 46/100\n",
            "45000/45000 [==============================] - 90s 2ms/step - loss: 1.6596 - acc: 0.4485 - val_loss: 1.7622 - val_acc: 0.4422\n",
            "Epoch 47/100\n",
            "45000/45000 [==============================] - 90s 2ms/step - loss: 1.6761 - acc: 0.4408 - val_loss: 1.9540 - val_acc: 0.4242\n",
            "Epoch 48/100\n",
            "45000/45000 [==============================] - 92s 2ms/step - loss: 1.6945 - acc: 0.4436 - val_loss: 2.0927 - val_acc: 0.4106\n",
            "Epoch 49/100\n",
            "45000/45000 [==============================] - 90s 2ms/step - loss: 1.7368 - acc: 0.4368 - val_loss: 2.1248 - val_acc: 0.2986\n",
            "Epoch 50/100\n",
            "45000/45000 [==============================] - 90s 2ms/step - loss: 1.7132 - acc: 0.4397 - val_loss: 2.0261 - val_acc: 0.3488\n",
            "Epoch 51/100\n",
            "45000/45000 [==============================] - 90s 2ms/step - loss: 1.6795 - acc: 0.4451 - val_loss: 2.1291 - val_acc: 0.3200\n",
            "Epoch 52/100\n",
            "45000/45000 [==============================] - 90s 2ms/step - loss: 1.6526 - acc: 0.4504 - val_loss: 1.9088 - val_acc: 0.3920\n",
            "Epoch 53/100\n",
            "45000/45000 [==============================] - 91s 2ms/step - loss: 1.6484 - acc: 0.4557 - val_loss: 2.3599 - val_acc: 0.3462\n",
            "Epoch 54/100\n",
            "45000/45000 [==============================] - 91s 2ms/step - loss: 1.6634 - acc: 0.4587 - val_loss: 2.1681 - val_acc: 0.3716\n",
            "Epoch 55/100\n",
            "45000/45000 [==============================] - 92s 2ms/step - loss: 1.7576 - acc: 0.4586 - val_loss: 2.3184 - val_acc: 0.3252\n",
            "Epoch 56/100\n",
            "45000/45000 [==============================] - 90s 2ms/step - loss: 1.6386 - acc: 0.4672 - val_loss: 2.3886 - val_acc: 0.4040\n",
            "Epoch 57/100\n",
            "45000/45000 [==============================] - 90s 2ms/step - loss: 1.6489 - acc: 0.4732 - val_loss: 2.0664 - val_acc: 0.3620\n",
            "Epoch 58/100\n",
            "45000/45000 [==============================] - 91s 2ms/step - loss: 1.6030 - acc: 0.4700 - val_loss: 2.0648 - val_acc: 0.3682\n",
            "Epoch 59/100\n",
            "45000/45000 [==============================] - 90s 2ms/step - loss: 1.6021 - acc: 0.4747 - val_loss: 1.8029 - val_acc: 0.4298\n",
            "Epoch 60/100\n",
            "45000/45000 [==============================] - 90s 2ms/step - loss: 1.6431 - acc: 0.4702 - val_loss: 1.7924 - val_acc: 0.4030\n",
            "Epoch 61/100\n",
            "45000/45000 [==============================] - 90s 2ms/step - loss: 1.6194 - acc: 0.4713 - val_loss: 2.1017 - val_acc: 0.4106\n",
            "Epoch 62/100\n",
            "45000/45000 [==============================] - 91s 2ms/step - loss: 1.6585 - acc: 0.4701 - val_loss: 2.3478 - val_acc: 0.3544\n",
            "Epoch 63/100\n",
            "45000/45000 [==============================] - 89s 2ms/step - loss: 1.6849 - acc: 0.4720 - val_loss: 2.0736 - val_acc: 0.4164\n",
            "Epoch 64/100\n",
            "45000/45000 [==============================] - 89s 2ms/step - loss: 1.6400 - acc: 0.4772 - val_loss: 1.8836 - val_acc: 0.3810\n",
            "Epoch 65/100\n",
            "45000/45000 [==============================] - 91s 2ms/step - loss: 1.6917 - acc: 0.4688 - val_loss: 2.0542 - val_acc: 0.3130\n",
            "Epoch 66/100\n",
            "45000/45000 [==============================] - 91s 2ms/step - loss: 1.6623 - acc: 0.4703 - val_loss: 2.0599 - val_acc: 0.3416\n",
            "Epoch 67/100\n",
            "45000/45000 [==============================] - 90s 2ms/step - loss: 1.6589 - acc: 0.4700 - val_loss: 2.0973 - val_acc: 0.3654\n",
            "Epoch 68/100\n",
            "45000/45000 [==============================] - 91s 2ms/step - loss: 1.7534 - acc: 0.4617 - val_loss: 1.9888 - val_acc: 0.4020\n",
            "Epoch 69/100\n",
            "45000/45000 [==============================] - 90s 2ms/step - loss: 1.8014 - acc: 0.4570 - val_loss: 1.7267 - val_acc: 0.4378\n",
            "Epoch 70/100\n",
            "45000/45000 [==============================] - 91s 2ms/step - loss: 1.7447 - acc: 0.4662 - val_loss: 2.6289 - val_acc: 0.3344\n",
            "Epoch 71/100\n",
            "45000/45000 [==============================] - 91s 2ms/step - loss: 1.7116 - acc: 0.4557 - val_loss: 1.7936 - val_acc: 0.4508\n",
            "Epoch 72/100\n",
            "45000/45000 [==============================] - 91s 2ms/step - loss: 1.7789 - acc: 0.4579 - val_loss: 2.0569 - val_acc: 0.4022\n",
            "Epoch 73/100\n",
            "45000/45000 [==============================] - 90s 2ms/step - loss: 1.7754 - acc: 0.4614 - val_loss: 2.2460 - val_acc: 0.4140\n",
            "Epoch 74/100\n",
            "45000/45000 [==============================] - 90s 2ms/step - loss: 1.6941 - acc: 0.4667 - val_loss: 2.3247 - val_acc: 0.3924\n",
            "Epoch 75/100\n",
            "45000/45000 [==============================] - 91s 2ms/step - loss: 1.7504 - acc: 0.4677 - val_loss: 1.9193 - val_acc: 0.4118\n",
            "Epoch 76/100\n",
            "45000/45000 [==============================] - 90s 2ms/step - loss: 1.7327 - acc: 0.4620 - val_loss: 2.1174 - val_acc: 0.3620\n",
            "Epoch 77/100\n",
            "45000/45000 [==============================] - 90s 2ms/step - loss: 1.6679 - acc: 0.4686 - val_loss: 1.7876 - val_acc: 0.4642\n",
            "Epoch 78/100\n",
            "45000/45000 [==============================] - 90s 2ms/step - loss: 1.7918 - acc: 0.4648 - val_loss: 2.0173 - val_acc: 0.3872\n",
            "Epoch 79/100\n",
            "45000/45000 [==============================] - 91s 2ms/step - loss: 1.8084 - acc: 0.4683 - val_loss: 2.1090 - val_acc: 0.4042\n",
            "Epoch 80/100\n",
            "45000/45000 [==============================] - 90s 2ms/step - loss: 1.6978 - acc: 0.4686 - val_loss: 1.9790 - val_acc: 0.4550\n",
            "Epoch 81/100\n",
            "45000/45000 [==============================] - 90s 2ms/step - loss: 1.7757 - acc: 0.4724 - val_loss: 2.1969 - val_acc: 0.4060\n",
            "Epoch 82/100\n",
            "45000/45000 [==============================] - 91s 2ms/step - loss: 1.7703 - acc: 0.4727 - val_loss: 2.1518 - val_acc: 0.3814\n",
            "Epoch 83/100\n",
            "45000/45000 [==============================] - 90s 2ms/step - loss: 1.7622 - acc: 0.4714 - val_loss: 2.4729 - val_acc: 0.3512\n",
            "Epoch 84/100\n",
            "45000/45000 [==============================] - 90s 2ms/step - loss: 1.7512 - acc: 0.4723 - val_loss: 1.9734 - val_acc: 0.3974\n",
            "Epoch 85/100\n",
            "45000/45000 [==============================] - 90s 2ms/step - loss: 1.7967 - acc: 0.4628 - val_loss: 2.1907 - val_acc: 0.4064\n",
            "Epoch 86/100\n",
            "45000/45000 [==============================] - 90s 2ms/step - loss: 1.7947 - acc: 0.4620 - val_loss: 2.2878 - val_acc: 0.3454\n",
            "Epoch 87/100\n",
            "45000/45000 [==============================] - 89s 2ms/step - loss: 1.8253 - acc: 0.4634 - val_loss: 2.2877 - val_acc: 0.3762\n",
            "Epoch 88/100\n",
            "45000/45000 [==============================] - 89s 2ms/step - loss: 1.8383 - acc: 0.4641 - val_loss: 2.1860 - val_acc: 0.3606\n",
            "Epoch 89/100\n",
            "45000/45000 [==============================] - 90s 2ms/step - loss: 1.7552 - acc: 0.4748 - val_loss: 2.0167 - val_acc: 0.4032\n",
            "Epoch 90/100\n",
            "45000/45000 [==============================] - 89s 2ms/step - loss: 1.7313 - acc: 0.4738 - val_loss: 2.4418 - val_acc: 0.3650\n",
            "Epoch 91/100\n",
            "45000/45000 [==============================] - 89s 2ms/step - loss: 1.8242 - acc: 0.4645 - val_loss: 2.0891 - val_acc: 0.3656\n",
            "Epoch 92/100\n",
            "45000/45000 [==============================] - 89s 2ms/step - loss: 1.7960 - acc: 0.4697 - val_loss: 2.1293 - val_acc: 0.4206\n",
            "Epoch 93/100\n",
            "45000/45000 [==============================] - 90s 2ms/step - loss: 1.8235 - acc: 0.4647 - val_loss: 2.1715 - val_acc: 0.3732\n",
            "Epoch 94/100\n",
            "45000/45000 [==============================] - 89s 2ms/step - loss: 1.7655 - acc: 0.4664 - val_loss: 2.2477 - val_acc: 0.4318\n",
            "Epoch 95/100\n",
            "45000/45000 [==============================] - 89s 2ms/step - loss: 1.7255 - acc: 0.4650 - val_loss: 2.0735 - val_acc: 0.4096\n",
            "Epoch 96/100\n",
            "45000/45000 [==============================] - 90s 2ms/step - loss: 1.7205 - acc: 0.4740 - val_loss: 2.1959 - val_acc: 0.3782\n",
            "Epoch 97/100\n",
            "45000/45000 [==============================] - 89s 2ms/step - loss: 1.8664 - acc: 0.4696 - val_loss: 2.9301 - val_acc: 0.3936\n",
            "Epoch 98/100\n",
            "45000/45000 [==============================] - 88s 2ms/step - loss: 1.8275 - acc: 0.4704 - val_loss: 2.3803 - val_acc: 0.4036\n",
            "Epoch 99/100\n",
            "45000/45000 [==============================] - 87s 2ms/step - loss: 1.8227 - acc: 0.4673 - val_loss: 2.0107 - val_acc: 0.4032\n",
            "Epoch 100/100\n",
            "45000/45000 [==============================] - 88s 2ms/step - loss: 1.7479 - acc: 0.4655 - val_loss: 2.2126 - val_acc: 0.3736\n"
          ],
          "name": "stdout"
        }
      ]
    },
    {
      "metadata": {
        "id": "LjmClpoIH0-B",
        "colab_type": "code",
        "colab": {
          "base_uri": "https://localhost:8080/",
          "height": 51
        },
        "outputId": "62f36dec-93b1-4bcf-d150-dc097f538bee"
      },
      "cell_type": "code",
      "source": [
        "#Model Evaluation\n",
        "model6.evaluate(x_test,y_test)"
      ],
      "execution_count": 9,
      "outputs": [
        {
          "output_type": "stream",
          "text": [
            "10000/10000 [==============================] - 3s 320us/step\n"
          ],
          "name": "stdout"
        },
        {
          "output_type": "execute_result",
          "data": {
            "text/plain": [
              "[2.170570407485962, 0.3671]"
            ]
          },
          "metadata": {
            "tags": []
          },
          "execution_count": 9
        }
      ]
    },
    {
      "metadata": {
        "id": "uZCRrymXkdM4",
        "colab_type": "text"
      },
      "cell_type": "markdown",
      "source": [
        "Same Model configuration with addition of callbacks which makes model to learn more by reduce learning rate on plateau with 0.1 factor"
      ]
    },
    {
      "metadata": {
        "id": "J9nIo2LsHfpu",
        "colab_type": "code",
        "colab": {
          "base_uri": "https://localhost:8080/",
          "height": 969
        },
        "outputId": "29ece0ac-b431-4430-cb31-84e25b7a25c0"
      },
      "cell_type": "code",
      "source": [
        "#The above sample Model with call backs\n",
        "model = Sequential()\n",
        "model.add(Dense(1024, activation='relu', input_shape=(3072,)))\n",
        "model.add(Dense(512, activation='relu'))\n",
        "model.add(Dense(256, activation='relu'))\n",
        "model.add(Dense(128, activation='relu'))\n",
        "model.add(Dense(64, activation='relu'))\n",
        "model.add(Dense(10, activation='softmax'))\n",
        "model.compile(optimizer='rmsprop',loss='categorical_crossentropy',metrics=['accuracy'])\n",
        "model.summary()\n",
        "history = model.fit(x_train,y_train,epochs=100,batch_size=32,validation_split = 0.1, callbacks = callbacks_model1 )"
      ],
      "execution_count": 12,
      "outputs": [
        {
          "output_type": "stream",
          "text": [
            "_________________________________________________________________\n",
            "Layer (type)                 Output Shape              Param #   \n",
            "=================================================================\n",
            "dense_9 (Dense)              (None, 1024)              3146752   \n",
            "_________________________________________________________________\n",
            "dense_10 (Dense)             (None, 512)               524800    \n",
            "_________________________________________________________________\n",
            "dense_11 (Dense)             (None, 256)               131328    \n",
            "_________________________________________________________________\n",
            "dense_12 (Dense)             (None, 128)               32896     \n",
            "_________________________________________________________________\n",
            "dense_13 (Dense)             (None, 64)                8256      \n",
            "_________________________________________________________________\n",
            "dense_14 (Dense)             (None, 10)                650       \n",
            "=================================================================\n",
            "Total params: 3,844,682\n",
            "Trainable params: 3,844,682\n",
            "Non-trainable params: 0\n",
            "_________________________________________________________________\n",
            "Train on 45000 samples, validate on 5000 samples\n",
            "Epoch 1/100\n",
            "45000/45000 [==============================] - 14s 320us/step - loss: 1.9979 - acc: 0.2727 - val_loss: 2.2450 - val_acc: 0.2728\n",
            "Epoch 2/100\n",
            "45000/45000 [==============================] - 14s 309us/step - loss: 1.7902 - acc: 0.3560 - val_loss: 2.1542 - val_acc: 0.2866\n",
            "Epoch 3/100\n",
            "45000/45000 [==============================] - 14s 310us/step - loss: 1.7019 - acc: 0.3945 - val_loss: 1.8051 - val_acc: 0.3764\n",
            "Epoch 4/100\n",
            "45000/45000 [==============================] - 14s 308us/step - loss: 1.6553 - acc: 0.4104 - val_loss: 1.8419 - val_acc: 0.3512\n",
            "Epoch 5/100\n",
            "45000/45000 [==============================] - 14s 309us/step - loss: 1.6269 - acc: 0.4242 - val_loss: 1.9033 - val_acc: 0.3766\n",
            "Epoch 6/100\n",
            "45000/45000 [==============================] - 14s 308us/step - loss: 1.6128 - acc: 0.4319 - val_loss: 1.7091 - val_acc: 0.3992\n",
            "Epoch 7/100\n",
            "45000/45000 [==============================] - 14s 309us/step - loss: 1.5955 - acc: 0.4338 - val_loss: 1.6412 - val_acc: 0.4266\n",
            "Epoch 8/100\n",
            "45000/45000 [==============================] - 14s 308us/step - loss: 1.5722 - acc: 0.4450 - val_loss: 1.5977 - val_acc: 0.4318\n",
            "Epoch 9/100\n",
            "45000/45000 [==============================] - 14s 307us/step - loss: 1.5650 - acc: 0.4492 - val_loss: 1.6229 - val_acc: 0.4300\n",
            "Epoch 10/100\n",
            "45000/45000 [==============================] - 14s 307us/step - loss: 1.5591 - acc: 0.4506 - val_loss: 1.8215 - val_acc: 0.3952\n",
            "Epoch 11/100\n",
            "45000/45000 [==============================] - 14s 309us/step - loss: 1.5547 - acc: 0.4561 - val_loss: 2.2187 - val_acc: 0.3368\n",
            "Epoch 12/100\n",
            "45000/45000 [==============================] - 14s 308us/step - loss: 1.3718 - acc: 0.5148 - val_loss: 1.5024 - val_acc: 0.4876\n",
            "Epoch 13/100\n",
            "45000/45000 [==============================] - 14s 309us/step - loss: 1.3442 - acc: 0.5244 - val_loss: 1.4786 - val_acc: 0.4946\n",
            "Epoch 14/100\n",
            "45000/45000 [==============================] - 14s 309us/step - loss: 1.3339 - acc: 0.5265 - val_loss: 1.4887 - val_acc: 0.5054\n",
            "Epoch 15/100\n",
            "45000/45000 [==============================] - 14s 309us/step - loss: 1.3263 - acc: 0.5298 - val_loss: 1.5094 - val_acc: 0.4996\n",
            "Epoch 16/100\n",
            "45000/45000 [==============================] - 14s 310us/step - loss: 1.3181 - acc: 0.5332 - val_loss: 1.5045 - val_acc: 0.5014\n",
            "Epoch 17/100\n",
            "45000/45000 [==============================] - 14s 309us/step - loss: 1.2923 - acc: 0.5393 - val_loss: 1.4848 - val_acc: 0.5058\n",
            "Epoch 18/100\n",
            "45000/45000 [==============================] - 14s 308us/step - loss: 1.2881 - acc: 0.5418 - val_loss: 1.4877 - val_acc: 0.5066\n"
          ],
          "name": "stdout"
        }
      ]
    },
    {
      "metadata": {
        "id": "rxa4sqAkHfs0",
        "colab_type": "code",
        "colab": {
          "base_uri": "https://localhost:8080/",
          "height": 376
        },
        "outputId": "784c9a6c-5154-41e8-8663-badc5dbffd93"
      },
      "cell_type": "code",
      "source": [
        "loss = history.history['loss']\n",
        "val_loss = history.history['val_loss']\n",
        "epochs = range(1, len(loss) + 1)\n",
        "plt.plot(epochs, loss, 'bo', label='Training loss')\n",
        "plt.plot(epochs, val_loss, 'b', label='Validation loss')\n",
        "plt.title('Training and validation loss')\n",
        "plt.xlabel('Epochs')\n",
        "plt.ylabel('Loss')\n",
        "plt.legend()\n",
        "plt.show()"
      ],
      "execution_count": 13,
      "outputs": [
        {
          "output_type": "display_data",
          "data": {
            "image/png": "[encoded data removed]",
            "text/plain": [
              "<matplotlib.figure.Figure at 0x7f68e77b1a90>"
            ]
          },
          "metadata": {
            "tags": []
          }
        }
      ]
    },
    {
      "metadata": {
        "id": "z6L2UzAZHfvr",
        "colab_type": "code",
        "colab": {
          "base_uri": "https://localhost:8080/",
          "height": 51
        },
        "outputId": "64241a02-478e-4a68-a4bf-63333f09ff4b"
      },
      "cell_type": "code",
      "source": [
        "#Model Evaluation\n",
        "model.evaluate(x_test,y_test)"
      ],
      "execution_count": 14,
      "outputs": [
        {
          "output_type": "stream",
          "text": [
            "10000/10000 [==============================] - 1s 84us/step\n"
          ],
          "name": "stdout"
        },
        {
          "output_type": "execute_result",
          "data": {
            "text/plain": [
              "[1.4550952840805054, 0.5018]"
            ]
          },
          "metadata": {
            "tags": []
          },
          "execution_count": 14
        }
      ]
    },
    {
      "metadata": {
        "id": "rRAJNdeZlNWY",
        "colab_type": "text"
      },
      "cell_type": "markdown",
      "source": [
        "Adding dropouts of 10% to the same above configured model"
      ]
    },
    {
      "metadata": {
        "id": "fi62diRQBoaF",
        "colab_type": "code",
        "colab": {
          "base_uri": "https://localhost:8080/",
          "height": 1581
        },
        "outputId": "2372de6e-90b4-414e-9de5-48fb40fa91a3"
      },
      "cell_type": "code",
      "source": [
        "model1 = Sequential()\n",
        "model1.add(Dense(3072, activation = 'relu', input_shape  = (3072,)))\n",
        "model1.add(Dropout(0.1))\n",
        "model1.add(Dense(768, activation = 'relu'))\n",
        "model1.add(Dropout(0.1))\n",
        "model1.add(Dense(512, activation = 'relu'))\n",
        "model1.add(Dropout(0.1))\n",
        "model1.add(Dense(256, activation = 'relu'))\n",
        "model1.add(Dropout(0.1))\n",
        "model1.add(Dense(128, activation = 'relu'))\n",
        "model1.add(Dropout(0.1))\n",
        "model1.add(Dense(64, activation = 'relu'))\n",
        "model1.add(Dropout(0.1))\n",
        "model1.add(Dense(32, activation = 'relu'))\n",
        "model1.add(Dense(10, activation = 'softmax'))\n",
        "opt_model = optimizers.Adam(lr=1e-4)\n",
        "model1.compile(optimizer=opt_model,loss='categorical_crossentropy',metrics=['accuracy'])\n",
        "model1.summary()\n",
        "history1 = model1.fit(x_train, y_train, epochs=100, batch_size=32, validation_split = 0.1, callbacks = callbacks_model1)"
      ],
      "execution_count": 24,
      "outputs": [
        {
          "output_type": "stream",
          "text": [
            "_________________________________________________________________\n",
            "Layer (type)                 Output Shape              Param #   \n",
            "=================================================================\n",
            "dense_19 (Dense)             (None, 3072)              9440256   \n",
            "_________________________________________________________________\n",
            "dropout_14 (Dropout)         (None, 3072)              0         \n",
            "_________________________________________________________________\n",
            "dense_20 (Dense)             (None, 768)               2360064   \n",
            "_________________________________________________________________\n",
            "dropout_15 (Dropout)         (None, 768)               0         \n",
            "_________________________________________________________________\n",
            "dense_21 (Dense)             (None, 512)               393728    \n",
            "_________________________________________________________________\n",
            "dropout_16 (Dropout)         (None, 512)               0         \n",
            "_________________________________________________________________\n",
            "dense_22 (Dense)             (None, 256)               131328    \n",
            "_________________________________________________________________\n",
            "dropout_17 (Dropout)         (None, 256)               0         \n",
            "_________________________________________________________________\n",
            "dense_23 (Dense)             (None, 128)               32896     \n",
            "_________________________________________________________________\n",
            "dropout_18 (Dropout)         (None, 128)               0         \n",
            "_________________________________________________________________\n",
            "dense_24 (Dense)             (None, 64)                8256      \n",
            "_________________________________________________________________\n",
            "dropout_19 (Dropout)         (None, 64)                0         \n",
            "_________________________________________________________________\n",
            "dense_25 (Dense)             (None, 32)                2080      \n",
            "_________________________________________________________________\n",
            "dense_26 (Dense)             (None, 10)                330       \n",
            "=================================================================\n",
            "Total params: 12,368,938\n",
            "Trainable params: 12,368,938\n",
            "Non-trainable params: 0\n",
            "_________________________________________________________________\n",
            "Train on 45000 samples, validate on 5000 samples\n",
            "Epoch 1/100\n",
            "45000/45000 [==============================] - 306s 7ms/step - loss: 2.0295 - acc: 0.2438 - val_loss: 1.8572 - val_acc: 0.3212\n",
            "Epoch 2/100\n",
            "45000/45000 [==============================] - 303s 7ms/step - loss: 1.8507 - acc: 0.3271 - val_loss: 1.7621 - val_acc: 0.3684\n",
            "Epoch 3/100\n",
            "45000/45000 [==============================] - 305s 7ms/step - loss: 1.7631 - acc: 0.3648 - val_loss: 1.6725 - val_acc: 0.4036\n",
            "Epoch 4/100\n",
            "45000/45000 [==============================] - 303s 7ms/step - loss: 1.6955 - acc: 0.3956 - val_loss: 1.6313 - val_acc: 0.4196\n",
            "Epoch 5/100\n",
            "45000/45000 [==============================] - 303s 7ms/step - loss: 1.6320 - acc: 0.4193 - val_loss: 1.5955 - val_acc: 0.4442\n",
            "Epoch 6/100\n",
            "45000/45000 [==============================] - 301s 7ms/step - loss: 1.5901 - acc: 0.4375 - val_loss: 1.5725 - val_acc: 0.4440\n",
            "Epoch 7/100\n",
            "45000/45000 [==============================] - 299s 7ms/step - loss: 1.5544 - acc: 0.4482 - val_loss: 1.5480 - val_acc: 0.4538\n",
            "Epoch 8/100\n",
            "45000/45000 [==============================] - 297s 7ms/step - loss: 1.5149 - acc: 0.4624 - val_loss: 1.5218 - val_acc: 0.4492\n",
            "Epoch 9/100\n",
            "45000/45000 [==============================] - 299s 7ms/step - loss: 1.4882 - acc: 0.4713 - val_loss: 1.4754 - val_acc: 0.4724\n",
            "Epoch 10/100\n",
            "45000/45000 [==============================] - 299s 7ms/step - loss: 1.4493 - acc: 0.4864 - val_loss: 1.5263 - val_acc: 0.4588\n",
            "Epoch 11/100\n",
            "45000/45000 [==============================] - 300s 7ms/step - loss: 1.4184 - acc: 0.4963 - val_loss: 1.4851 - val_acc: 0.4710\n",
            "Epoch 12/100\n",
            "45000/45000 [==============================] - 301s 7ms/step - loss: 1.3905 - acc: 0.5075 - val_loss: 1.4352 - val_acc: 0.4834\n",
            "Epoch 13/100\n",
            "45000/45000 [==============================] - 299s 7ms/step - loss: 1.3648 - acc: 0.5158 - val_loss: 1.4114 - val_acc: 0.4988\n",
            "Epoch 14/100\n",
            "45000/45000 [==============================] - 298s 7ms/step - loss: 1.3309 - acc: 0.5280 - val_loss: 1.4261 - val_acc: 0.4968\n",
            "Epoch 15/100\n",
            "45000/45000 [==============================] - 306s 7ms/step - loss: 1.3129 - acc: 0.5372 - val_loss: 1.3723 - val_acc: 0.5228\n",
            "Epoch 16/100\n",
            "45000/45000 [==============================] - 304s 7ms/step - loss: 1.2865 - acc: 0.5421 - val_loss: 1.3680 - val_acc: 0.5142\n",
            "Epoch 17/100\n",
            "45000/45000 [==============================] - 300s 7ms/step - loss: 1.2603 - acc: 0.5536 - val_loss: 1.3735 - val_acc: 0.5216\n",
            "Epoch 18/100\n",
            "45000/45000 [==============================] - 296s 7ms/step - loss: 1.2318 - acc: 0.5616 - val_loss: 1.3426 - val_acc: 0.5226\n",
            "Epoch 19/100\n",
            "45000/45000 [==============================] - 297s 7ms/step - loss: 1.2082 - acc: 0.5746 - val_loss: 1.3327 - val_acc: 0.5312\n",
            "Epoch 20/100\n",
            "45000/45000 [==============================] - 297s 7ms/step - loss: 1.1837 - acc: 0.5806 - val_loss: 1.3603 - val_acc: 0.5238\n",
            "Epoch 21/100\n",
            "45000/45000 [==============================] - 297s 7ms/step - loss: 1.1605 - acc: 0.5876 - val_loss: 1.3933 - val_acc: 0.5130\n",
            "Epoch 22/100\n",
            "45000/45000 [==============================] - 304s 7ms/step - loss: 1.1346 - acc: 0.5975 - val_loss: 1.3600 - val_acc: 0.5304\n",
            "Epoch 23/100\n",
            "45000/45000 [==============================] - 303s 7ms/step - loss: 1.0008 - acc: 0.6438 - val_loss: 1.2940 - val_acc: 0.5630\n",
            "Epoch 24/100\n",
            "45000/45000 [==============================] - 304s 7ms/step - loss: 0.9711 - acc: 0.6560 - val_loss: 1.3015 - val_acc: 0.5578\n",
            "Epoch 25/100\n",
            "45000/45000 [==============================] - 304s 7ms/step - loss: 0.9541 - acc: 0.6618 - val_loss: 1.3101 - val_acc: 0.5638\n",
            "Epoch 26/100\n",
            "45000/45000 [==============================] - 304s 7ms/step - loss: 0.9450 - acc: 0.6655 - val_loss: 1.3042 - val_acc: 0.5596\n",
            "Epoch 27/100\n",
            "45000/45000 [==============================] - 303s 7ms/step - loss: 0.9329 - acc: 0.6695 - val_loss: 1.3054 - val_acc: 0.5630\n",
            "Epoch 28/100\n",
            "45000/45000 [==============================] - 303s 7ms/step - loss: 0.9296 - acc: 0.6697 - val_loss: 1.3064 - val_acc: 0.5636\n"
          ],
          "name": "stdout"
        }
      ]
    },
    {
      "metadata": {
        "id": "BaXyaZRmBodh",
        "colab_type": "code",
        "colab": {
          "base_uri": "https://localhost:8080/",
          "height": 376
        },
        "outputId": "f89a8d21-9f6b-4388-aee6-e9167cc0d898"
      },
      "cell_type": "code",
      "source": [
        "loss = history1.history['loss']\n",
        "val_loss = history1.history['val_loss']\n",
        "epochs = range(1, len(loss) + 1)\n",
        "plt.plot(epochs, loss, 'bo', label='Training loss')\n",
        "plt.plot(epochs, val_loss, 'b', label='Validation loss')\n",
        "plt.title('Training and validation loss')\n",
        "plt.xlabel('Epochs')\n",
        "plt.ylabel('Loss')\n",
        "plt.legend()\n",
        "plt.show()"
      ],
      "execution_count": 25,
      "outputs": [
        {
          "output_type": "display_data",
          "data": {
            "image/png": "[encoded data removed]",
            "text/plain": [
              "<matplotlib.figure.Figure at 0x7f0889067518>"
            ]
          },
          "metadata": {
            "tags": []
          }
        }
      ]
    },
    {
      "metadata": {
        "id": "_vjr81K_BogY",
        "colab_type": "code",
        "colab": {
          "base_uri": "https://localhost:8080/",
          "height": 51
        },
        "outputId": "0df1b93a-57ef-408f-bf23-31309847f311"
      },
      "cell_type": "code",
      "source": [
        "model1.evaluate(x_test,y_test)"
      ],
      "execution_count": 26,
      "outputs": [
        {
          "output_type": "stream",
          "text": [
            "10000/10000 [==============================] - 9s 909us/step\n"
          ],
          "name": "stdout"
        },
        {
          "output_type": "execute_result",
          "data": {
            "text/plain": [
              "[1.3265246658325196, 0.558]"
            ]
          },
          "metadata": {
            "tags": []
          },
          "execution_count": 26
        }
      ]
    },
    {
      "metadata": {
        "id": "-x-QJvxelX9O",
        "colab_type": "text"
      },
      "cell_type": "markdown",
      "source": [
        "Increasing the dropout % to 0.5"
      ]
    },
    {
      "metadata": {
        "id": "9yeh6MS4COUu",
        "colab_type": "code",
        "colab": {
          "base_uri": "https://localhost:8080/",
          "height": 1751
        },
        "outputId": "e8f6dcf7-dcc9-4012-facd-21eb0a420705"
      },
      "cell_type": "code",
      "source": [
        "model4 = Sequential()\n",
        "model4.add(Dense(3072, activation = 'relu', input_shape  = (3072,)))\n",
        "model4.add(Dropout(0.1))\n",
        "model4.add(Dense(768, activation = 'relu'))\n",
        "model4.add(Dropout(0.2))\n",
        "model4.add(Dense(512, activation = 'relu'))\n",
        "model4.add(Dropout(0.3))\n",
        "model4.add(Dense(256, activation = 'relu'))\n",
        "model4.add(Dropout(0.4))\n",
        "model4.add(Dense(128, activation = 'relu'))\n",
        "model4.add(Dropout(0.5))\n",
        "model4.add(Dense(64, activation = 'relu'))\n",
        "model4.add(Dense(32, activation = 'relu'))\n",
        "model4.add(Dense(10, activation = 'softmax'))\n",
        "opt_model = optimizers.Adam(lr=1e-4)\n",
        "model4.compile(optimizer=opt_model,loss='categorical_crossentropy',metrics=['accuracy'])\n",
        "model4.summary()\n",
        "history4 = model4.fit(x_train, y_train, epochs=100, batch_size=32, validation_split = 0.1, callbacks = callbacks_model1)"
      ],
      "execution_count": 9,
      "outputs": [
        {
          "output_type": "stream",
          "text": [
            "_________________________________________________________________\n",
            "Layer (type)                 Output Shape              Param #   \n",
            "=================================================================\n",
            "dense_1 (Dense)              (None, 3072)              9440256   \n",
            "_________________________________________________________________\n",
            "dropout_1 (Dropout)          (None, 3072)              0         \n",
            "_________________________________________________________________\n",
            "dense_2 (Dense)              (None, 768)               2360064   \n",
            "_________________________________________________________________\n",
            "dropout_2 (Dropout)          (None, 768)               0         \n",
            "_________________________________________________________________\n",
            "dense_3 (Dense)              (None, 512)               393728    \n",
            "_________________________________________________________________\n",
            "dropout_3 (Dropout)          (None, 512)               0         \n",
            "_________________________________________________________________\n",
            "dense_4 (Dense)              (None, 256)               131328    \n",
            "_________________________________________________________________\n",
            "dropout_4 (Dropout)          (None, 256)               0         \n",
            "_________________________________________________________________\n",
            "dense_5 (Dense)              (None, 128)               32896     \n",
            "_________________________________________________________________\n",
            "dropout_5 (Dropout)          (None, 128)               0         \n",
            "_________________________________________________________________\n",
            "dense_6 (Dense)              (None, 64)                8256      \n",
            "_________________________________________________________________\n",
            "dense_7 (Dense)              (None, 32)                2080      \n",
            "_________________________________________________________________\n",
            "dense_8 (Dense)              (None, 10)                330       \n",
            "=================================================================\n",
            "Total params: 12,368,938\n",
            "Trainable params: 12,368,938\n",
            "Non-trainable params: 0\n",
            "_________________________________________________________________\n",
            "Train on 45000 samples, validate on 5000 samples\n",
            "Epoch 1/100\n",
            "45000/45000 [==============================] - 36s 792us/step - loss: 2.2495 - acc: 0.1318 - val_loss: 2.0856 - val_acc: 0.1676\n",
            "Epoch 2/100\n",
            "45000/45000 [==============================] - 33s 723us/step - loss: 2.0471 - acc: 0.2106 - val_loss: 1.9390 - val_acc: 0.2654\n",
            "Epoch 3/100\n",
            "45000/45000 [==============================] - 33s 725us/step - loss: 1.9348 - acc: 0.2661 - val_loss: 1.8526 - val_acc: 0.3228\n",
            "Epoch 4/100\n",
            "45000/45000 [==============================] - 33s 727us/step - loss: 1.8594 - acc: 0.3041 - val_loss: 1.7839 - val_acc: 0.3408\n",
            "Epoch 5/100\n",
            "45000/45000 [==============================] - 32s 718us/step - loss: 1.8047 - acc: 0.3366 - val_loss: 1.7390 - val_acc: 0.3694\n",
            "Epoch 6/100\n",
            "45000/45000 [==============================] - 32s 720us/step - loss: 1.7539 - acc: 0.3608 - val_loss: 1.6944 - val_acc: 0.3830\n",
            "Epoch 7/100\n",
            "45000/45000 [==============================] - 32s 717us/step - loss: 1.7069 - acc: 0.3873 - val_loss: 1.6286 - val_acc: 0.4100\n",
            "Epoch 8/100\n",
            "45000/45000 [==============================] - 32s 720us/step - loss: 1.6674 - acc: 0.4029 - val_loss: 1.6105 - val_acc: 0.4262\n",
            "Epoch 9/100\n",
            "45000/45000 [==============================] - 32s 717us/step - loss: 1.6279 - acc: 0.4187 - val_loss: 1.6214 - val_acc: 0.4284\n",
            "Epoch 10/100\n",
            "45000/45000 [==============================] - 32s 717us/step - loss: 1.6001 - acc: 0.4301 - val_loss: 1.5620 - val_acc: 0.4452\n",
            "Epoch 11/100\n",
            "45000/45000 [==============================] - 32s 719us/step - loss: 1.5730 - acc: 0.4410 - val_loss: 1.5386 - val_acc: 0.4474\n",
            "Epoch 12/100\n",
            "45000/45000 [==============================] - 32s 719us/step - loss: 1.5433 - acc: 0.4500 - val_loss: 1.5345 - val_acc: 0.4580\n",
            "Epoch 13/100\n",
            "45000/45000 [==============================] - 32s 717us/step - loss: 1.5225 - acc: 0.4601 - val_loss: 1.5138 - val_acc: 0.4552\n",
            "Epoch 14/100\n",
            "45000/45000 [==============================] - 32s 718us/step - loss: 1.4905 - acc: 0.4719 - val_loss: 1.4997 - val_acc: 0.4690\n",
            "Epoch 15/100\n",
            "45000/45000 [==============================] - 32s 717us/step - loss: 1.4712 - acc: 0.4806 - val_loss: 1.4563 - val_acc: 0.4844\n",
            "Epoch 16/100\n",
            "45000/45000 [==============================] - 32s 717us/step - loss: 1.4539 - acc: 0.4831 - val_loss: 1.4534 - val_acc: 0.4846\n",
            "Epoch 17/100\n",
            "45000/45000 [==============================] - 32s 716us/step - loss: 1.4286 - acc: 0.4935 - val_loss: 1.4332 - val_acc: 0.4936\n",
            "Epoch 18/100\n",
            "45000/45000 [==============================] - 32s 717us/step - loss: 1.4085 - acc: 0.5036 - val_loss: 1.4300 - val_acc: 0.4934\n",
            "Epoch 19/100\n",
            "45000/45000 [==============================] - 32s 718us/step - loss: 1.3904 - acc: 0.5096 - val_loss: 1.4232 - val_acc: 0.5014\n",
            "Epoch 20/100\n",
            "45000/45000 [==============================] - 32s 717us/step - loss: 1.3704 - acc: 0.5175 - val_loss: 1.4284 - val_acc: 0.5010\n",
            "Epoch 21/100\n",
            "45000/45000 [==============================] - 32s 717us/step - loss: 1.3550 - acc: 0.5208 - val_loss: 1.4088 - val_acc: 0.4980\n",
            "Epoch 22/100\n",
            "45000/45000 [==============================] - 32s 717us/step - loss: 1.3342 - acc: 0.5308 - val_loss: 1.3985 - val_acc: 0.5088\n",
            "Epoch 23/100\n",
            "45000/45000 [==============================] - 32s 716us/step - loss: 1.3137 - acc: 0.5365 - val_loss: 1.3759 - val_acc: 0.5184\n",
            "Epoch 24/100\n",
            "45000/45000 [==============================] - 32s 716us/step - loss: 1.2988 - acc: 0.5443 - val_loss: 1.3826 - val_acc: 0.5180\n",
            "Epoch 25/100\n",
            "45000/45000 [==============================] - 32s 717us/step - loss: 1.2844 - acc: 0.5467 - val_loss: 1.3895 - val_acc: 0.5158\n",
            "Epoch 26/100\n",
            "45000/45000 [==============================] - 32s 716us/step - loss: 1.2632 - acc: 0.5527 - val_loss: 1.3890 - val_acc: 0.5178\n",
            "Epoch 27/100\n",
            "45000/45000 [==============================] - 32s 717us/step - loss: 1.1605 - acc: 0.5888 - val_loss: 1.3429 - val_acc: 0.5322\n",
            "Epoch 28/100\n",
            "45000/45000 [==============================] - 32s 716us/step - loss: 1.1414 - acc: 0.5969 - val_loss: 1.3455 - val_acc: 0.5388\n",
            "Epoch 29/100\n",
            "45000/45000 [==============================] - 32s 717us/step - loss: 1.1367 - acc: 0.5976 - val_loss: 1.3404 - val_acc: 0.5406\n",
            "Epoch 30/100\n",
            "45000/45000 [==============================] - 32s 715us/step - loss: 1.1241 - acc: 0.6026 - val_loss: 1.3447 - val_acc: 0.5410\n",
            "Epoch 31/100\n",
            "45000/45000 [==============================] - 32s 716us/step - loss: 1.1203 - acc: 0.6050 - val_loss: 1.3407 - val_acc: 0.5488\n",
            "Epoch 32/100\n",
            "45000/45000 [==============================] - 32s 717us/step - loss: 1.1116 - acc: 0.6068 - val_loss: 1.3477 - val_acc: 0.5444\n",
            "Epoch 33/100\n",
            "45000/45000 [==============================] - 32s 716us/step - loss: 1.1033 - acc: 0.6107 - val_loss: 1.3445 - val_acc: 0.5476\n",
            "Epoch 34/100\n",
            "45000/45000 [==============================] - 32s 716us/step - loss: 1.0944 - acc: 0.6141 - val_loss: 1.3460 - val_acc: 0.5452\n"
          ],
          "name": "stdout"
        }
      ]
    },
    {
      "metadata": {
        "id": "uvkXqfqVCOYZ",
        "colab_type": "code",
        "colab": {
          "base_uri": "https://localhost:8080/",
          "height": 376
        },
        "outputId": "c62ae906-ea63-40c5-baa2-d48ba74ab319"
      },
      "cell_type": "code",
      "source": [
        "loss = history4.history['loss']\n",
        "val_loss = history4.history['val_loss']\n",
        "epochs = range(1, len(loss) + 1)\n",
        "plt.plot(epochs, loss, 'bo', label='Training loss')\n",
        "plt.plot(epochs, val_loss, 'b', label='Validation loss')\n",
        "plt.title('Training and validation loss')\n",
        "plt.xlabel('Epochs')\n",
        "plt.ylabel('Loss')\n",
        "plt.legend()\n",
        "plt.show()"
      ],
      "execution_count": 10,
      "outputs": [
        {
          "output_type": "display_data",
          "data": {
            "image/png": "[encoded data removed]",
            "text/plain": [
              "<matplotlib.figure.Figure at 0x7f68ee53e0b8>"
            ]
          },
          "metadata": {
            "tags": []
          }
        }
      ]
    },
    {
      "metadata": {
        "id": "yFRzL431CObi",
        "colab_type": "code",
        "colab": {
          "base_uri": "https://localhost:8080/",
          "height": 51
        },
        "outputId": "fa3bd301-a493-4e01-b9a6-478a75cc52c6"
      },
      "cell_type": "code",
      "source": [
        "model4.evaluate(x_test,y_test)"
      ],
      "execution_count": 11,
      "outputs": [
        {
          "output_type": "stream",
          "text": [
            "10000/10000 [==============================] - 1s 120us/step\n"
          ],
          "name": "stdout"
        },
        {
          "output_type": "execute_result",
          "data": {
            "text/plain": [
              "[1.3319030019760132, 0.5403]"
            ]
          },
          "metadata": {
            "tags": []
          },
          "execution_count": 11
        }
      ]
    },
    {
      "metadata": {
        "id": "ZIu3zYSQldYQ",
        "colab_type": "text"
      },
      "cell_type": "markdown",
      "source": [
        "Adding Batch Normalization to each layer"
      ]
    },
    {
      "metadata": {
        "id": "Q9ChjX0cCOfY",
        "colab_type": "code",
        "colab": {
          "base_uri": "https://localhost:8080/",
          "height": 2431
        },
        "outputId": "7a7e01bd-6de8-4255-c288-5b06088c9777"
      },
      "cell_type": "code",
      "source": [
        "model5 = Sequential()\n",
        "model5.add(Dense(768,input_shape  = (3072,)))\n",
        "model5.add(BatchNormalization())\n",
        "model5.add(Activation('relu'))\n",
        "model5.add(Dropout(0.1))\n",
        "\n",
        "model5.add(Dense(512, activation = 'relu'))\n",
        "model5.add(BatchNormalization())\n",
        "model5.add(Activation('relu'))\n",
        "model5.add(Dropout(0.1))\n",
        "\n",
        "model5.add(Dense(256, activation = 'relu'))\n",
        "model5.add(BatchNormalization())\n",
        "model5.add(Activation('relu'))\n",
        "model5.add(Dropout(0.1))\n",
        "\n",
        "model5.add(Dense(128, activation = 'relu'))\n",
        "model5.add(BatchNormalization())\n",
        "model5.add(Activation('relu'))\n",
        "model5.add(Dropout(0.1))\n",
        "\n",
        "model5.add(Dense(64, activation = 'relu'))\n",
        "model5.add(BatchNormalization())\n",
        "model5.add(Activation('relu'))\n",
        "model5.add(Dropout(0.1))\n",
        "\n",
        "model5.add(Dense(32, activation = 'relu'))\n",
        "model5.add(BatchNormalization())\n",
        "model5.add(Activation('relu'))\n",
        "model5.add(Dropout(0.1))\n",
        "\n",
        "model5.add(Dense(10, activation = 'softmax'))\n",
        "opt_model = optimizers.Adam(lr=1e-4)\n",
        "model5.compile(optimizer=opt_model,loss='categorical_crossentropy',metrics=['accuracy'])\n",
        "model5.summary()\n",
        "history5 = model5.fit(x_train, y_train, epochs=100, batch_size=32, validation_split = 0.1,callbacks=callbacks_model1)"
      ],
      "execution_count": 20,
      "outputs": [
        {
          "output_type": "stream",
          "text": [
            "_________________________________________________________________\n",
            "Layer (type)                 Output Shape              Param #   \n",
            "=================================================================\n",
            "dense_12 (Dense)             (None, 768)               2360064   \n",
            "_________________________________________________________________\n",
            "batch_normalization_7 (Batch (None, 768)               3072      \n",
            "_________________________________________________________________\n",
            "activation_7 (Activation)    (None, 768)               0         \n",
            "_________________________________________________________________\n",
            "dropout_8 (Dropout)          (None, 768)               0         \n",
            "_________________________________________________________________\n",
            "dense_13 (Dense)             (None, 512)               393728    \n",
            "_________________________________________________________________\n",
            "batch_normalization_8 (Batch (None, 512)               2048      \n",
            "_________________________________________________________________\n",
            "activation_8 (Activation)    (None, 512)               0         \n",
            "_________________________________________________________________\n",
            "dropout_9 (Dropout)          (None, 512)               0         \n",
            "_________________________________________________________________\n",
            "dense_14 (Dense)             (None, 256)               131328    \n",
            "_________________________________________________________________\n",
            "batch_normalization_9 (Batch (None, 256)               1024      \n",
            "_________________________________________________________________\n",
            "activation_9 (Activation)    (None, 256)               0         \n",
            "_________________________________________________________________\n",
            "dropout_10 (Dropout)         (None, 256)               0         \n",
            "_________________________________________________________________\n",
            "dense_15 (Dense)             (None, 128)               32896     \n",
            "_________________________________________________________________\n",
            "batch_normalization_10 (Batc (None, 128)               512       \n",
            "_________________________________________________________________\n",
            "activation_10 (Activation)   (None, 128)               0         \n",
            "_________________________________________________________________\n",
            "dropout_11 (Dropout)         (None, 128)               0         \n",
            "_________________________________________________________________\n",
            "dense_16 (Dense)             (None, 64)                8256      \n",
            "_________________________________________________________________\n",
            "batch_normalization_11 (Batc (None, 64)                256       \n",
            "_________________________________________________________________\n",
            "activation_11 (Activation)   (None, 64)                0         \n",
            "_________________________________________________________________\n",
            "dropout_12 (Dropout)         (None, 64)                0         \n",
            "_________________________________________________________________\n",
            "dense_17 (Dense)             (None, 32)                2080      \n",
            "_________________________________________________________________\n",
            "batch_normalization_12 (Batc (None, 32)                128       \n",
            "_________________________________________________________________\n",
            "activation_12 (Activation)   (None, 32)                0         \n",
            "_________________________________________________________________\n",
            "dropout_13 (Dropout)         (None, 32)                0         \n",
            "_________________________________________________________________\n",
            "dense_18 (Dense)             (None, 10)                330       \n",
            "=================================================================\n",
            "Total params: 2,935,722\n",
            "Trainable params: 2,932,202\n",
            "Non-trainable params: 3,520\n",
            "_________________________________________________________________\n",
            "Train on 45000 samples, validate on 5000 samples\n",
            "Epoch 1/100\n",
            "45000/45000 [==============================] - 88s 2ms/step - loss: 2.3848 - acc: 0.1675 - val_loss: 2.1146 - val_acc: 0.2306\n",
            "Epoch 2/100\n",
            "45000/45000 [==============================] - 86s 2ms/step - loss: 2.0959 - acc: 0.2436 - val_loss: 1.9603 - val_acc: 0.2986\n",
            "Epoch 3/100\n",
            "45000/45000 [==============================] - 85s 2ms/step - loss: 1.9861 - acc: 0.2868 - val_loss: 1.9352 - val_acc: 0.3122\n",
            "Epoch 4/100\n",
            "45000/45000 [==============================] - 86s 2ms/step - loss: 1.9102 - acc: 0.3104 - val_loss: 1.9039 - val_acc: 0.3344\n",
            "Epoch 5/100\n",
            "45000/45000 [==============================] - 87s 2ms/step - loss: 1.8509 - acc: 0.3383 - val_loss: 1.8390 - val_acc: 0.3558\n",
            "Epoch 6/100\n",
            "45000/45000 [==============================] - 87s 2ms/step - loss: 1.7939 - acc: 0.3615 - val_loss: 1.7355 - val_acc: 0.3952\n",
            "Epoch 7/100\n",
            "45000/45000 [==============================] - 86s 2ms/step - loss: 1.7479 - acc: 0.3787 - val_loss: 1.7431 - val_acc: 0.3966\n",
            "Epoch 8/100\n",
            "45000/45000 [==============================] - 86s 2ms/step - loss: 1.7087 - acc: 0.3923 - val_loss: 1.6756 - val_acc: 0.4162\n",
            "Epoch 9/100\n",
            "45000/45000 [==============================] - 85s 2ms/step - loss: 1.6630 - acc: 0.4109 - val_loss: 1.6217 - val_acc: 0.4400\n",
            "Epoch 10/100\n",
            "45000/45000 [==============================] - 85s 2ms/step - loss: 1.6376 - acc: 0.4239 - val_loss: 1.6158 - val_acc: 0.4468\n",
            "Epoch 11/100\n",
            "45000/45000 [==============================] - 84s 2ms/step - loss: 1.6034 - acc: 0.4326 - val_loss: 1.5585 - val_acc: 0.4582\n",
            "Epoch 12/100\n",
            "45000/45000 [==============================] - 84s 2ms/step - loss: 1.5693 - acc: 0.4467 - val_loss: 1.5924 - val_acc: 0.4350\n",
            "Epoch 13/100\n",
            "45000/45000 [==============================] - 84s 2ms/step - loss: 1.5385 - acc: 0.4600 - val_loss: 1.5271 - val_acc: 0.4804\n",
            "Epoch 14/100\n",
            "45000/45000 [==============================] - 84s 2ms/step - loss: 1.5071 - acc: 0.4734 - val_loss: 1.5153 - val_acc: 0.4746\n",
            "Epoch 15/100\n",
            "45000/45000 [==============================] - 84s 2ms/step - loss: 1.4830 - acc: 0.4794 - val_loss: 1.4889 - val_acc: 0.4978\n",
            "Epoch 16/100\n",
            "45000/45000 [==============================] - 84s 2ms/step - loss: 1.4517 - acc: 0.4929 - val_loss: 1.4398 - val_acc: 0.5086\n",
            "Epoch 17/100\n",
            "45000/45000 [==============================] - 84s 2ms/step - loss: 1.4331 - acc: 0.4987 - val_loss: 1.4597 - val_acc: 0.4922\n",
            "Epoch 18/100\n",
            "45000/45000 [==============================] - 83s 2ms/step - loss: 1.4018 - acc: 0.5104 - val_loss: 1.4240 - val_acc: 0.4950\n",
            "Epoch 19/100\n",
            "45000/45000 [==============================] - 84s 2ms/step - loss: 1.3874 - acc: 0.5129 - val_loss: 1.3642 - val_acc: 0.5216\n",
            "Epoch 20/100\n",
            "45000/45000 [==============================] - 83s 2ms/step - loss: 1.3618 - acc: 0.5235 - val_loss: 1.3858 - val_acc: 0.5048\n",
            "Epoch 21/100\n",
            "45000/45000 [==============================] - 83s 2ms/step - loss: 1.3376 - acc: 0.5348 - val_loss: 1.4007 - val_acc: 0.5158\n",
            "Epoch 22/100\n",
            "45000/45000 [==============================] - 85s 2ms/step - loss: 1.3162 - acc: 0.5390 - val_loss: 1.3638 - val_acc: 0.5236\n",
            "Epoch 23/100\n",
            "45000/45000 [==============================] - 84s 2ms/step - loss: 1.2918 - acc: 0.5478 - val_loss: 1.3716 - val_acc: 0.5184\n",
            "Epoch 24/100\n",
            "45000/45000 [==============================] - 84s 2ms/step - loss: 1.2801 - acc: 0.5518 - val_loss: 1.4378 - val_acc: 0.5062\n",
            "Epoch 25/100\n",
            "45000/45000 [==============================] - 84s 2ms/step - loss: 1.2548 - acc: 0.5594 - val_loss: 1.3464 - val_acc: 0.5278\n",
            "Epoch 26/100\n",
            "45000/45000 [==============================] - 84s 2ms/step - loss: 1.2368 - acc: 0.5683 - val_loss: 1.3650 - val_acc: 0.5204\n",
            "Epoch 27/100\n",
            "45000/45000 [==============================] - 84s 2ms/step - loss: 1.2203 - acc: 0.5745 - val_loss: 1.4238 - val_acc: 0.5000\n",
            "Epoch 28/100\n",
            "45000/45000 [==============================] - 83s 2ms/step - loss: 1.2009 - acc: 0.5806 - val_loss: 1.3805 - val_acc: 0.5256\n",
            "Epoch 29/100\n",
            "45000/45000 [==============================] - 84s 2ms/step - loss: 1.1457 - acc: 0.6012 - val_loss: 1.2516 - val_acc: 0.5668\n",
            "Epoch 30/100\n",
            "45000/45000 [==============================] - 84s 2ms/step - loss: 1.1187 - acc: 0.6106 - val_loss: 1.2454 - val_acc: 0.5680\n",
            "Epoch 31/100\n",
            "45000/45000 [==============================] - 84s 2ms/step - loss: 1.1050 - acc: 0.6143 - val_loss: 1.2407 - val_acc: 0.5750\n",
            "Epoch 32/100\n",
            "45000/45000 [==============================] - 83s 2ms/step - loss: 1.0936 - acc: 0.6193 - val_loss: 1.2357 - val_acc: 0.5752\n",
            "Epoch 33/100\n",
            "45000/45000 [==============================] - 83s 2ms/step - loss: 1.0864 - acc: 0.6216 - val_loss: 1.2393 - val_acc: 0.5774\n",
            "Epoch 34/100\n",
            "45000/45000 [==============================] - 84s 2ms/step - loss: 1.0823 - acc: 0.6251 - val_loss: 1.2353 - val_acc: 0.5774\n",
            "Epoch 35/100\n",
            "45000/45000 [==============================] - 84s 2ms/step - loss: 1.0771 - acc: 0.6231 - val_loss: 1.2265 - val_acc: 0.5776\n",
            "Epoch 36/100\n",
            "45000/45000 [==============================] - 84s 2ms/step - loss: 1.0715 - acc: 0.6266 - val_loss: 1.2298 - val_acc: 0.5748\n",
            "Epoch 37/100\n",
            "45000/45000 [==============================] - 83s 2ms/step - loss: 1.0590 - acc: 0.6331 - val_loss: 1.2238 - val_acc: 0.5762\n",
            "Epoch 38/100\n",
            "45000/45000 [==============================] - 85s 2ms/step - loss: 1.0610 - acc: 0.6308 - val_loss: 1.2314 - val_acc: 0.5726\n",
            "Epoch 39/100\n",
            "45000/45000 [==============================] - 83s 2ms/step - loss: 1.0520 - acc: 0.6316 - val_loss: 1.2294 - val_acc: 0.5756\n",
            "Epoch 40/100\n",
            "45000/45000 [==============================] - 83s 2ms/step - loss: 1.0477 - acc: 0.6346 - val_loss: 1.2425 - val_acc: 0.5672\n",
            "Epoch 41/100\n",
            "45000/45000 [==============================] - 83s 2ms/step - loss: 1.0402 - acc: 0.6387 - val_loss: 1.2310 - val_acc: 0.5752\n",
            "Epoch 42/100\n",
            "45000/45000 [==============================] - 83s 2ms/step - loss: 1.0452 - acc: 0.6368 - val_loss: 1.2281 - val_acc: 0.5758\n"
          ],
          "name": "stdout"
        }
      ]
    },
    {
      "metadata": {
        "id": "LdFufo2uCOio",
        "colab_type": "code",
        "colab": {
          "base_uri": "https://localhost:8080/",
          "height": 376
        },
        "outputId": "982bc97d-f430-43a3-c75a-d50404ce715e"
      },
      "cell_type": "code",
      "source": [
        "loss = history5.history['loss']\n",
        "val_loss = history5.history['val_loss']\n",
        "epochs = range(1, len(loss) + 1)\n",
        "plt.plot(epochs, loss, 'bo', label='Training loss')\n",
        "plt.plot(epochs, val_loss, 'b', label='Validation loss')\n",
        "plt.title('Training and validation loss')\n",
        "plt.xlabel('Epochs')\n",
        "plt.ylabel('Loss')\n",
        "plt.legend()\n",
        "plt.show()"
      ],
      "execution_count": 22,
      "outputs": [
        {
          "output_type": "display_data",
          "data": {
            "image/png": "[encoded data removed]",
            "text/plain": [
              "<matplotlib.figure.Figure at 0x7f0891dad630>"
            ]
          },
          "metadata": {
            "tags": []
          }
        }
      ]
    },
    {
      "metadata": {
        "id": "2WWDbcZXCcVC",
        "colab_type": "code",
        "colab": {
          "base_uri": "https://localhost:8080/",
          "height": 51
        },
        "outputId": "9265252c-265a-42c7-d9d3-09ab869520d4"
      },
      "cell_type": "code",
      "source": [
        "model5.evaluate(x_test,y_test)"
      ],
      "execution_count": 23,
      "outputs": [
        {
          "output_type": "stream",
          "text": [
            "10000/10000 [==============================] - 4s 363us/step\n"
          ],
          "name": "stdout"
        },
        {
          "output_type": "execute_result",
          "data": {
            "text/plain": [
              "[1.245922071647644, 0.5673]"
            ]
          },
          "metadata": {
            "tags": []
          },
          "execution_count": 23
        }
      ]
    },
    {
      "metadata": {
        "id": "G4rME6ielh6D",
        "colab_type": "text"
      },
      "cell_type": "markdown",
      "source": [
        "Basic CNN Model with 2 con2d and 2 max pooling layer"
      ]
    },
    {
      "metadata": {
        "id": "RRx4MelHBon0",
        "colab_type": "code",
        "colab": {
          "base_uri": "https://localhost:8080/",
          "height": 1819
        },
        "outputId": "22f6f763-914f-483d-877b-d640e56be9af"
      },
      "cell_type": "code",
      "source": [
        "#General CNN Model \n",
        "model2 = Sequential()\n",
        "model2.add(Conv2D(32, (3, 3), activation='relu', input_shape=(32, 32, 3)))\n",
        "model2.add(MaxPooling2D((2, 2)))\n",
        "model2.add(Conv2D(64, (3, 3), activation='relu'))\n",
        "model2.add(MaxPooling2D((2, 2)))\n",
        "model2.add(Flatten())\n",
        "model2.add(Dense(64, activation='relu'))\n",
        "model2.add(Dense(10, activation='softmax'))\n",
        "opt_model = optimizers.Adam(lr=1e-4)\n",
        "model2.compile(optimizer=opt_model,loss='categorical_crossentropy',metrics=['accuracy'])\n",
        "model2.summary()\n",
        "history2 = model2.fit(x_train_cifar, y_train_cifar, epochs=100, batch_size=32, validation_split = 0.1, callbacks = callbacks_model1)\n"
      ],
      "execution_count": 10,
      "outputs": [
        {
          "output_type": "stream",
          "text": [
            "_________________________________________________________________\n",
            "Layer (type)                 Output Shape              Param #   \n",
            "=================================================================\n",
            "conv2d_1 (Conv2D)            (None, 30, 30, 32)        896       \n",
            "_________________________________________________________________\n",
            "max_pooling2d_1 (MaxPooling2 (None, 15, 15, 32)        0         \n",
            "_________________________________________________________________\n",
            "conv2d_2 (Conv2D)            (None, 13, 13, 64)        18496     \n",
            "_________________________________________________________________\n",
            "max_pooling2d_2 (MaxPooling2 (None, 6, 6, 64)          0         \n",
            "_________________________________________________________________\n",
            "flatten_1 (Flatten)          (None, 2304)              0         \n",
            "_________________________________________________________________\n",
            "dense_1 (Dense)              (None, 64)                147520    \n",
            "_________________________________________________________________\n",
            "dense_2 (Dense)              (None, 10)                650       \n",
            "=================================================================\n",
            "Total params: 167,562\n",
            "Trainable params: 167,562\n",
            "Non-trainable params: 0\n",
            "_________________________________________________________________\n",
            "Train on 45000 samples, validate on 5000 samples\n",
            "Epoch 1/100\n",
            "45000/45000 [==============================] - 80s 2ms/step - loss: 1.7735 - acc: 0.3655 - val_loss: 1.5503 - val_acc: 0.4440\n",
            "Epoch 2/100\n",
            "45000/45000 [==============================] - 80s 2ms/step - loss: 1.4702 - acc: 0.4752 - val_loss: 1.3867 - val_acc: 0.5088\n",
            "Epoch 3/100\n",
            "45000/45000 [==============================] - 79s 2ms/step - loss: 1.3600 - acc: 0.5198 - val_loss: 1.3113 - val_acc: 0.5474\n",
            "Epoch 4/100\n",
            "45000/45000 [==============================] - 80s 2ms/step - loss: 1.2882 - acc: 0.5482 - val_loss: 1.2528 - val_acc: 0.5660\n",
            "Epoch 5/100\n",
            "45000/45000 [==============================] - 81s 2ms/step - loss: 1.2332 - acc: 0.5695 - val_loss: 1.2121 - val_acc: 0.5748\n",
            "Epoch 6/100\n",
            "45000/45000 [==============================] - 82s 2ms/step - loss: 1.1884 - acc: 0.5852 - val_loss: 1.1806 - val_acc: 0.5834\n",
            "Epoch 7/100\n",
            "45000/45000 [==============================] - 80s 2ms/step - loss: 1.1493 - acc: 0.6005 - val_loss: 1.1244 - val_acc: 0.6038\n",
            "Epoch 8/100\n",
            "45000/45000 [==============================] - 78s 2ms/step - loss: 1.1174 - acc: 0.6108 - val_loss: 1.1669 - val_acc: 0.5842\n",
            "Epoch 9/100\n",
            "45000/45000 [==============================] - 78s 2ms/step - loss: 1.0871 - acc: 0.6223 - val_loss: 1.0802 - val_acc: 0.6262\n",
            "Epoch 10/100\n",
            "45000/45000 [==============================] - 79s 2ms/step - loss: 1.0602 - acc: 0.6324 - val_loss: 1.0724 - val_acc: 0.6254\n",
            "Epoch 11/100\n",
            "45000/45000 [==============================] - 78s 2ms/step - loss: 1.0365 - acc: 0.6411 - val_loss: 1.0502 - val_acc: 0.6290\n",
            "Epoch 12/100\n",
            "45000/45000 [==============================] - 82s 2ms/step - loss: 1.0135 - acc: 0.6491 - val_loss: 1.0299 - val_acc: 0.6382\n",
            "Epoch 13/100\n",
            "45000/45000 [==============================] - 81s 2ms/step - loss: 0.9904 - acc: 0.6576 - val_loss: 1.0110 - val_acc: 0.6514\n",
            "Epoch 14/100\n",
            "45000/45000 [==============================] - 82s 2ms/step - loss: 0.9711 - acc: 0.6655 - val_loss: 1.0096 - val_acc: 0.6530\n",
            "Epoch 15/100\n",
            "45000/45000 [==============================] - 82s 2ms/step - loss: 0.9545 - acc: 0.6703 - val_loss: 1.0147 - val_acc: 0.6414\n",
            "Epoch 16/100\n",
            "45000/45000 [==============================] - 81s 2ms/step - loss: 0.9361 - acc: 0.6777 - val_loss: 0.9924 - val_acc: 0.6558\n",
            "Epoch 17/100\n",
            "45000/45000 [==============================] - 82s 2ms/step - loss: 0.9208 - acc: 0.6836 - val_loss: 0.9751 - val_acc: 0.6612\n",
            "Epoch 18/100\n",
            "45000/45000 [==============================] - 82s 2ms/step - loss: 0.9060 - acc: 0.6881 - val_loss: 0.9606 - val_acc: 0.6720\n",
            "Epoch 19/100\n",
            "45000/45000 [==============================] - 80s 2ms/step - loss: 0.8888 - acc: 0.6940 - val_loss: 0.9508 - val_acc: 0.6648\n",
            "Epoch 20/100\n",
            "45000/45000 [==============================] - 78s 2ms/step - loss: 0.8761 - acc: 0.6975 - val_loss: 0.9629 - val_acc: 0.6672\n",
            "Epoch 21/100\n",
            "45000/45000 [==============================] - 78s 2ms/step - loss: 0.8616 - acc: 0.7044 - val_loss: 0.9405 - val_acc: 0.6730\n",
            "Epoch 22/100\n",
            "45000/45000 [==============================] - 78s 2ms/step - loss: 0.8462 - acc: 0.7100 - val_loss: 0.9466 - val_acc: 0.6730\n",
            "Epoch 23/100\n",
            "45000/45000 [==============================] - 77s 2ms/step - loss: 0.8341 - acc: 0.7135 - val_loss: 0.9341 - val_acc: 0.6780\n",
            "Epoch 24/100\n",
            "45000/45000 [==============================] - 77s 2ms/step - loss: 0.8225 - acc: 0.7175 - val_loss: 0.9233 - val_acc: 0.6788\n",
            "Epoch 25/100\n",
            "45000/45000 [==============================] - 86s 2ms/step - loss: 0.8100 - acc: 0.7203 - val_loss: 0.9232 - val_acc: 0.6824\n",
            "Epoch 26/100\n",
            "45000/45000 [==============================] - 81s 2ms/step - loss: 0.7961 - acc: 0.7279 - val_loss: 0.9076 - val_acc: 0.6850\n",
            "Epoch 27/100\n",
            "45000/45000 [==============================] - 81s 2ms/step - loss: 0.7850 - acc: 0.7301 - val_loss: 0.9080 - val_acc: 0.6838\n",
            "Epoch 28/100\n",
            "45000/45000 [==============================] - 82s 2ms/step - loss: 0.7736 - acc: 0.7358 - val_loss: 0.9126 - val_acc: 0.6796\n",
            "Epoch 29/100\n",
            "45000/45000 [==============================] - 82s 2ms/step - loss: 0.7628 - acc: 0.7378 - val_loss: 0.9353 - val_acc: 0.6748\n",
            "Epoch 30/100\n",
            "45000/45000 [==============================] - 81s 2ms/step - loss: 0.7209 - acc: 0.7546 - val_loss: 0.8906 - val_acc: 0.6912\n",
            "Epoch 31/100\n",
            "45000/45000 [==============================] - 82s 2ms/step - loss: 0.7167 - acc: 0.7579 - val_loss: 0.8868 - val_acc: 0.6928\n",
            "Epoch 32/100\n",
            "45000/45000 [==============================] - 81s 2ms/step - loss: 0.7147 - acc: 0.7575 - val_loss: 0.8864 - val_acc: 0.6914\n",
            "Epoch 33/100\n",
            "45000/45000 [==============================] - 82s 2ms/step - loss: 0.7129 - acc: 0.7584 - val_loss: 0.8889 - val_acc: 0.6954\n",
            "Epoch 34/100\n",
            "45000/45000 [==============================] - 81s 2ms/step - loss: 0.7113 - acc: 0.7594 - val_loss: 0.8872 - val_acc: 0.6906\n",
            "Epoch 35/100\n",
            "45000/45000 [==============================] - 82s 2ms/step - loss: 0.7098 - acc: 0.7600 - val_loss: 0.8883 - val_acc: 0.6900\n",
            "Epoch 36/100\n",
            "45000/45000 [==============================] - 81s 2ms/step - loss: 0.7048 - acc: 0.7614 - val_loss: 0.8861 - val_acc: 0.6896\n",
            "Epoch 37/100\n",
            "45000/45000 [==============================] - 82s 2ms/step - loss: 0.7044 - acc: 0.7622 - val_loss: 0.8858 - val_acc: 0.6906\n",
            "Epoch 38/100\n",
            "45000/45000 [==============================] - 81s 2ms/step - loss: 0.7042 - acc: 0.7619 - val_loss: 0.8857 - val_acc: 0.6908\n",
            "Epoch 39/100\n",
            "45000/45000 [==============================] - 81s 2ms/step - loss: 0.7041 - acc: 0.7620 - val_loss: 0.8857 - val_acc: 0.6900\n",
            "Epoch 40/100\n",
            "45000/45000 [==============================] - 81s 2ms/step - loss: 0.7040 - acc: 0.7623 - val_loss: 0.8860 - val_acc: 0.6900\n",
            "Epoch 41/100\n",
            "45000/45000 [==============================] - 82s 2ms/step - loss: 0.7037 - acc: 0.7622 - val_loss: 0.8862 - val_acc: 0.6894\n",
            "Epoch 42/100\n",
            "33376/45000 [=====================>........] - ETA: 20s - loss: 0.7034 - acc: 0.7613Buffered data was truncated after reaching the output size limit."
          ],
          "name": "stdout"
        }
      ]
    },
    {
      "metadata": {
        "id": "inUBZMxQBoqy",
        "colab_type": "code",
        "colab": {
          "base_uri": "https://localhost:8080/",
          "height": 376
        },
        "outputId": "b515d0e4-25b2-49c9-f418-30b5e7d5275b"
      },
      "cell_type": "code",
      "source": [
        "loss = history2.history['loss']\n",
        "val_loss = history2.history['val_loss']\n",
        "epochs = range(1, len(loss) + 1)\n",
        "plt.plot(epochs, loss, 'bo', label='Training loss')\n",
        "plt.plot(epochs, val_loss, 'b', label='Validation loss')\n",
        "plt.title('Training and validation loss')\n",
        "plt.xlabel('Epochs')\n",
        "plt.ylabel('Loss')\n",
        "plt.legend()\n",
        "plt.show()"
      ],
      "execution_count": 11,
      "outputs": [
        {
          "output_type": "display_data",
          "data": {
            "image/png": "[encoded data removed]",
            "text/plain": [
              "<matplotlib.figure.Figure at 0x7f08935475f8>"
            ]
          },
          "metadata": {
            "tags": []
          }
        }
      ]
    },
    {
      "metadata": {
        "id": "2aMP7Uo2Botx",
        "colab_type": "code",
        "colab": {
          "base_uri": "https://localhost:8080/",
          "height": 51
        },
        "outputId": "ccab8f75-afb3-47c6-9e18-36ce9071ad33"
      },
      "cell_type": "code",
      "source": [
        "model2.evaluate(x_test_cifar,y_test_cifar)"
      ],
      "execution_count": 18,
      "outputs": [
        {
          "output_type": "stream",
          "text": [
            "10000/10000 [==============================] - 6s 608us/step\n"
          ],
          "name": "stdout"
        },
        {
          "output_type": "execute_result",
          "data": {
            "text/plain": [
              "[0.9079517957687377, 0.6913]"
            ]
          },
          "metadata": {
            "tags": []
          },
          "execution_count": 18
        }
      ]
    },
    {
      "metadata": {
        "id": "4iD9T-r-lnkY",
        "colab_type": "text"
      },
      "cell_type": "markdown",
      "source": [
        "Increasing the CNN layers by 1 conv2d and 1 max pooling layer. Added dropouts to fully connected layer"
      ]
    },
    {
      "metadata": {
        "id": "Npw5xReuBow9",
        "colab_type": "code",
        "colab": {
          "base_uri": "https://localhost:8080/",
          "height": 2567
        },
        "outputId": "a872e473-7ba9-487a-ab96-edcbba2fa534"
      },
      "cell_type": "code",
      "source": [
        "#Adding more conv2d and Max pooling layers\n",
        "model3 = Sequential()\n",
        "model3.add(layers.Conv2D(32, (3, 3), activation='relu', input_shape=(32, 32, 3)))\n",
        "model3.add(layers.MaxPooling2D((2, 2)))\n",
        "model3.add(layers.Conv2D(64, (3, 3), activation='relu'))\n",
        "model3.add(layers.MaxPooling2D((2, 2)))\n",
        "model3.add(layers.Conv2D(128, (3, 3), activation='relu'))\n",
        "model3.add(layers.MaxPooling2D((2, 2)))\n",
        "# model3.add(layers.Conv2D(128, (3, 3), activation='relu'))\n",
        "# model3.add(layers.MaxPooling2D((2, 2)))\n",
        "model3.add(layers.Flatten())\n",
        "model3.add(Dropout(0.1))\n",
        "model3.add(layers.Dense(64, activation='relu'))\n",
        "model3.add(layers.Dense(10, activation='softmax'))\n",
        "opt_model = optimizers.Adam(lr=1e-4)\n",
        "model3.compile(optimizer=opt_model,loss='categorical_crossentropy',metrics=['accuracy'])\n",
        "model3.summary()\n",
        "history3 = model3.fit(x_train_cifar, y_train_cifar, epochs=100, batch_size=32, validation_split = 0.1, callbacks = callbacks_model1)"
      ],
      "execution_count": 14,
      "outputs": [
        {
          "output_type": "stream",
          "text": [
            "_________________________________________________________________\n",
            "Layer (type)                 Output Shape              Param #   \n",
            "=================================================================\n",
            "conv2d_3 (Conv2D)            (None, 30, 30, 32)        896       \n",
            "_________________________________________________________________\n",
            "max_pooling2d_3 (MaxPooling2 (None, 15, 15, 32)        0         \n",
            "_________________________________________________________________\n",
            "conv2d_4 (Conv2D)            (None, 13, 13, 64)        18496     \n",
            "_________________________________________________________________\n",
            "max_pooling2d_4 (MaxPooling2 (None, 6, 6, 64)          0         \n",
            "_________________________________________________________________\n",
            "conv2d_5 (Conv2D)            (None, 4, 4, 128)         73856     \n",
            "_________________________________________________________________\n",
            "max_pooling2d_5 (MaxPooling2 (None, 2, 2, 128)         0         \n",
            "_________________________________________________________________\n",
            "flatten_2 (Flatten)          (None, 512)               0         \n",
            "_________________________________________________________________\n",
            "dropout_1 (Dropout)          (None, 512)               0         \n",
            "_________________________________________________________________\n",
            "dense_3 (Dense)              (None, 64)                32832     \n",
            "_________________________________________________________________\n",
            "dense_4 (Dense)              (None, 10)                650       \n",
            "=================================================================\n",
            "Total params: 126,730\n",
            "Trainable params: 126,730\n",
            "Non-trainable params: 0\n",
            "_________________________________________________________________\n",
            "Train on 45000 samples, validate on 5000 samples\n",
            "Epoch 1/100\n",
            "45000/45000 [==============================] - 89s 2ms/step - loss: 1.8510 - acc: 0.3226 - val_loss: 1.5808 - val_acc: 0.4248\n",
            "Epoch 2/100\n",
            "45000/45000 [==============================] - 89s 2ms/step - loss: 1.5340 - acc: 0.4449 - val_loss: 1.4493 - val_acc: 0.4732\n",
            "Epoch 3/100\n",
            "45000/45000 [==============================] - 90s 2ms/step - loss: 1.4187 - acc: 0.4898 - val_loss: 1.3691 - val_acc: 0.5254\n",
            "Epoch 4/100\n",
            "45000/45000 [==============================] - 91s 2ms/step - loss: 1.3420 - acc: 0.5227 - val_loss: 1.2894 - val_acc: 0.5496\n",
            "Epoch 5/100\n",
            "45000/45000 [==============================] - 91s 2ms/step - loss: 1.2842 - acc: 0.5467 - val_loss: 1.2462 - val_acc: 0.5656\n",
            "Epoch 6/100\n",
            "45000/45000 [==============================] - 92s 2ms/step - loss: 1.2350 - acc: 0.5658 - val_loss: 1.2156 - val_acc: 0.5772\n",
            "Epoch 7/100\n",
            "45000/45000 [==============================] - 91s 2ms/step - loss: 1.1898 - acc: 0.5831 - val_loss: 1.1661 - val_acc: 0.5946\n",
            "Epoch 8/100\n",
            "45000/45000 [==============================] - 91s 2ms/step - loss: 1.1497 - acc: 0.5985 - val_loss: 1.1095 - val_acc: 0.6220\n",
            "Epoch 9/100\n",
            "45000/45000 [==============================] - 92s 2ms/step - loss: 1.1185 - acc: 0.6092 - val_loss: 1.1041 - val_acc: 0.6164\n",
            "Epoch 10/100\n",
            "45000/45000 [==============================] - 91s 2ms/step - loss: 1.0873 - acc: 0.6224 - val_loss: 1.0622 - val_acc: 0.6362\n",
            "Epoch 11/100\n",
            "45000/45000 [==============================] - 91s 2ms/step - loss: 1.0594 - acc: 0.6341 - val_loss: 1.0554 - val_acc: 0.6388\n",
            "Epoch 12/100\n",
            "45000/45000 [==============================] - 91s 2ms/step - loss: 1.0322 - acc: 0.6397 - val_loss: 1.0288 - val_acc: 0.6444\n",
            "Epoch 13/100\n",
            "45000/45000 [==============================] - 91s 2ms/step - loss: 1.0075 - acc: 0.6521 - val_loss: 1.0022 - val_acc: 0.6556\n",
            "Epoch 14/100\n",
            "45000/45000 [==============================] - 91s 2ms/step - loss: 0.9867 - acc: 0.6574 - val_loss: 1.0300 - val_acc: 0.6414\n",
            "Epoch 15/100\n",
            "45000/45000 [==============================] - 91s 2ms/step - loss: 0.9634 - acc: 0.6653 - val_loss: 0.9650 - val_acc: 0.6672\n",
            "Epoch 16/100\n",
            "45000/45000 [==============================] - 91s 2ms/step - loss: 0.9446 - acc: 0.6725 - val_loss: 0.9650 - val_acc: 0.6706\n",
            "Epoch 17/100\n",
            "45000/45000 [==============================] - 91s 2ms/step - loss: 0.9274 - acc: 0.6792 - val_loss: 0.9455 - val_acc: 0.6760\n",
            "Epoch 18/100\n",
            "45000/45000 [==============================] - 91s 2ms/step - loss: 0.9088 - acc: 0.6849 - val_loss: 0.9392 - val_acc: 0.6806\n",
            "Epoch 19/100\n",
            "45000/45000 [==============================] - 91s 2ms/step - loss: 0.8920 - acc: 0.6910 - val_loss: 0.9275 - val_acc: 0.6888\n",
            "Epoch 20/100\n",
            "45000/45000 [==============================] - 91s 2ms/step - loss: 0.8765 - acc: 0.6973 - val_loss: 0.9112 - val_acc: 0.6938\n",
            "Epoch 21/100\n",
            "45000/45000 [==============================] - 90s 2ms/step - loss: 0.8592 - acc: 0.7040 - val_loss: 0.9170 - val_acc: 0.6862\n",
            "Epoch 22/100\n",
            "45000/45000 [==============================] - 91s 2ms/step - loss: 0.8449 - acc: 0.7080 - val_loss: 0.8974 - val_acc: 0.6916\n",
            "Epoch 23/100\n",
            "45000/45000 [==============================] - 92s 2ms/step - loss: 0.8299 - acc: 0.7112 - val_loss: 0.8980 - val_acc: 0.6930\n",
            "Epoch 24/100\n",
            "45000/45000 [==============================] - 90s 2ms/step - loss: 0.8171 - acc: 0.7181 - val_loss: 0.8799 - val_acc: 0.6976\n",
            "Epoch 25/100\n",
            "45000/45000 [==============================] - 90s 2ms/step - loss: 0.8019 - acc: 0.7240 - val_loss: 0.8622 - val_acc: 0.7062\n",
            "Epoch 26/100\n",
            "45000/45000 [==============================] - 91s 2ms/step - loss: 0.7915 - acc: 0.7238 - val_loss: 0.8761 - val_acc: 0.6990\n",
            "Epoch 27/100\n",
            "45000/45000 [==============================] - 91s 2ms/step - loss: 0.7769 - acc: 0.7302 - val_loss: 0.8692 - val_acc: 0.7018\n",
            "Epoch 28/100\n",
            "45000/45000 [==============================] - 91s 2ms/step - loss: 0.7614 - acc: 0.7383 - val_loss: 0.8489 - val_acc: 0.7096\n",
            "Epoch 29/100\n",
            "45000/45000 [==============================] - 91s 2ms/step - loss: 0.7532 - acc: 0.7390 - val_loss: 0.8495 - val_acc: 0.7090\n",
            "Epoch 30/100\n",
            "45000/45000 [==============================] - 92s 2ms/step - loss: 0.7390 - acc: 0.7435 - val_loss: 0.8430 - val_acc: 0.7094\n",
            "Epoch 31/100\n",
            "45000/45000 [==============================] - 91s 2ms/step - loss: 0.7302 - acc: 0.7465 - val_loss: 0.8385 - val_acc: 0.7150\n",
            "Epoch 32/100\n",
            "45000/45000 [==============================] - 92s 2ms/step - loss: 0.7156 - acc: 0.7518 - val_loss: 0.8271 - val_acc: 0.7202\n",
            "Epoch 33/100\n",
            "45000/45000 [==============================] - 92s 2ms/step - loss: 0.7054 - acc: 0.7545 - val_loss: 0.8250 - val_acc: 0.7176\n",
            "Epoch 34/100\n",
            "45000/45000 [==============================] - 91s 2ms/step - loss: 0.6955 - acc: 0.7582 - val_loss: 0.8197 - val_acc: 0.7196\n",
            "Epoch 35/100\n",
            "45000/45000 [==============================] - 91s 2ms/step - loss: 0.6872 - acc: 0.7616 - val_loss: 0.9010 - val_acc: 0.7004\n",
            "Epoch 36/100\n",
            "45000/45000 [==============================] - 91s 2ms/step - loss: 0.6762 - acc: 0.7652 - val_loss: 0.8063 - val_acc: 0.7234\n",
            "Epoch 37/100\n",
            "45000/45000 [==============================] - 90s 2ms/step - loss: 0.6666 - acc: 0.7683 - val_loss: 0.7966 - val_acc: 0.7312\n",
            "Epoch 38/100\n",
            "45000/45000 [==============================] - 90s 2ms/step - loss: 0.6555 - acc: 0.7710 - val_loss: 0.8107 - val_acc: 0.7254\n",
            "Epoch 39/100\n",
            "45000/45000 [==============================] - 90s 2ms/step - loss: 0.6483 - acc: 0.7741 - val_loss: 0.8133 - val_acc: 0.7262\n",
            "Epoch 40/100\n",
            "45000/45000 [==============================] - 91s 2ms/step - loss: 0.6366 - acc: 0.7795 - val_loss: 0.8007 - val_acc: 0.7280\n",
            "Epoch 41/100\n",
            "45000/45000 [==============================] - 91s 2ms/step - loss: 0.5949 - acc: 0.7955 - val_loss: 0.7808 - val_acc: 0.7374\n",
            "Epoch 42/100\n",
            "45000/45000 [==============================] - 91s 2ms/step - loss: 0.5925 - acc: 0.7954 - val_loss: 0.7821 - val_acc: 0.7378\n",
            "Epoch 43/100\n",
            "45000/45000 [==============================] - 92s 2ms/step - loss: 0.5884 - acc: 0.7973 - val_loss: 0.7790 - val_acc: 0.7410\n",
            "Epoch 44/100\n",
            "45000/45000 [==============================] - 91s 2ms/step - loss: 0.5880 - acc: 0.7985 - val_loss: 0.7836 - val_acc: 0.7364\n",
            "Epoch 45/100\n",
            "45000/45000 [==============================] - 91s 2ms/step - loss: 0.5851 - acc: 0.7970 - val_loss: 0.7783 - val_acc: 0.7398\n",
            "Epoch 46/100\n",
            "45000/45000 [==============================] - 91s 2ms/step - loss: 0.5832 - acc: 0.7984 - val_loss: 0.7788 - val_acc: 0.7374\n",
            "Epoch 47/100\n",
            "45000/45000 [==============================] - 92s 2ms/step - loss: 0.5805 - acc: 0.8002 - val_loss: 0.7810 - val_acc: 0.7400\n",
            "Epoch 48/100\n",
            "45000/45000 [==============================] - 91s 2ms/step - loss: 0.5809 - acc: 0.7987 - val_loss: 0.7773 - val_acc: 0.7416\n",
            "Epoch 49/100\n",
            "45000/45000 [==============================] - 91s 2ms/step - loss: 0.5766 - acc: 0.8029 - val_loss: 0.7790 - val_acc: 0.7380\n",
            "Epoch 50/100\n",
            "45000/45000 [==============================] - 91s 2ms/step - loss: 0.5774 - acc: 0.8022 - val_loss: 0.7809 - val_acc: 0.7406\n",
            "Epoch 51/100\n",
            "45000/45000 [==============================] - 90s 2ms/step - loss: 0.5780 - acc: 0.8023 - val_loss: 0.7793 - val_acc: 0.7414\n",
            "Epoch 52/100\n",
            "45000/45000 [==============================] - 90s 2ms/step - loss: 0.5720 - acc: 0.8056 - val_loss: 0.7773 - val_acc: 0.7428\n",
            "Epoch 53/100\n",
            "45000/45000 [==============================] - 91s 2ms/step - loss: 0.5701 - acc: 0.8037 - val_loss: 0.7768 - val_acc: 0.7416\n",
            "Epoch 54/100\n",
            "45000/45000 [==============================] - 91s 2ms/step - loss: 0.5673 - acc: 0.8035 - val_loss: 0.7770 - val_acc: 0.7422\n",
            "Epoch 55/100\n",
            "45000/45000 [==============================] - 91s 2ms/step - loss: 0.5712 - acc: 0.8029 - val_loss: 0.7768 - val_acc: 0.7412\n",
            "Epoch 56/100\n",
            "45000/45000 [==============================] - 91s 2ms/step - loss: 0.5698 - acc: 0.8054 - val_loss: 0.7765 - val_acc: 0.7424\n",
            "Epoch 57/100\n",
            "45000/45000 [==============================] - 91s 2ms/step - loss: 0.5693 - acc: 0.8033 - val_loss: 0.7766 - val_acc: 0.7408\n",
            "Epoch 58/100\n",
            "45000/45000 [==============================] - 91s 2ms/step - loss: 0.5673 - acc: 0.8052 - val_loss: 0.7770 - val_acc: 0.7422\n",
            "Epoch 59/100\n",
            "45000/45000 [==============================] - 91s 2ms/step - loss: 0.5710 - acc: 0.8023 - val_loss: 0.7775 - val_acc: 0.7418\n",
            "Epoch 60/100\n",
            "45000/45000 [==============================] - 92s 2ms/step - loss: 0.5672 - acc: 0.8044 - val_loss: 0.7770 - val_acc: 0.7414\n",
            "Epoch 61/100\n",
            "45000/45000 [==============================] - 91s 2ms/step - loss: 0.5677 - acc: 0.8029 - val_loss: 0.7768 - val_acc: 0.7416\n"
          ],
          "name": "stdout"
        }
      ]
    },
    {
      "metadata": {
        "id": "ACbA8rg8Bo0J",
        "colab_type": "code",
        "colab": {
          "base_uri": "https://localhost:8080/",
          "height": 376
        },
        "outputId": "2264e054-afdd-4149-bd84-25085dd78d00"
      },
      "cell_type": "code",
      "source": [
        "loss = history3.history['loss']\n",
        "val_loss = history3.history['val_loss']\n",
        "epochs = range(1, len(loss) + 1)\n",
        "plt.plot(epochs, loss, 'bo', label='Training loss')\n",
        "plt.plot(epochs, val_loss, 'b', label='Validation loss')\n",
        "plt.title('Training and validation loss')\n",
        "plt.xlabel('Epochs')\n",
        "plt.ylabel('Loss')\n",
        "plt.legend()\n",
        "plt.show()"
      ],
      "execution_count": 15,
      "outputs": [
        {
          "output_type": "display_data",
          "data": {
            "image/png": "[encoded data removed]",
            "text/plain": [
              "<matplotlib.figure.Figure at 0x7f088fd81400>"
            ]
          },
          "metadata": {
            "tags": []
          }
        }
      ]
    },
    {
      "metadata": {
        "id": "t933wmcPBo3K",
        "colab_type": "code",
        "colab": {
          "base_uri": "https://localhost:8080/",
          "height": 51
        },
        "outputId": "1ee7c9d2-9a7f-4fdb-f772-096776618d5b"
      },
      "cell_type": "code",
      "source": [
        "model3.evaluate(x_test_cifar,y_test_cifar)"
      ],
      "execution_count": 17,
      "outputs": [
        {
          "output_type": "stream",
          "text": [
            "10000/10000 [==============================] - 7s 672us/step\n"
          ],
          "name": "stdout"
        },
        {
          "output_type": "execute_result",
          "data": {
            "text/plain": [
              "[0.7878833349227905, 0.7328]"
            ]
          },
          "metadata": {
            "tags": []
          },
          "execution_count": 17
        }
      ]
    },
    {
      "metadata": {
        "id": "MXlieu_Wl1U9",
        "colab_type": "text"
      },
      "cell_type": "markdown",
      "source": [
        "Adding Batch Normalization to fully connected layer"
      ]
    },
    {
      "metadata": {
        "id": "daUyM91UQ8mu",
        "colab_type": "code",
        "colab": {
          "base_uri": "https://localhost:8080/",
          "height": 1683
        },
        "outputId": "ee97c388-bf0c-41ea-bace-a3f2258fee46"
      },
      "cell_type": "code",
      "source": [
        "#Adding more conv2d and Max pooling layers\n",
        "model7 = Sequential()\n",
        "model7.add(layers.Conv2D(32, (3, 3), activation='relu', input_shape=(32, 32, 3)))\n",
        "model7.add(layers.MaxPooling2D((2, 2)))\n",
        "model7.add(layers.Conv2D(64, (3, 3), activation='relu'))\n",
        "model7.add(layers.MaxPooling2D((2, 2)))\n",
        "model7.add(layers.Conv2D(128, (3, 3), activation='relu'))\n",
        "model7.add(layers.MaxPooling2D((2, 2)))\n",
        "# model3.add(layers.Conv2D(128, (3, 3), activation='relu'))\n",
        "# model3.add(layers.MaxPooling2D((2, 2)))\n",
        "model7.add(layers.Flatten())\n",
        "model7.add(Dropout(0.1))\n",
        "\n",
        "model7.add(Dense(64))\n",
        "model7.add(BatchNormalization())\n",
        "model7.add(Activation('relu'))\n",
        "model7.add(Dropout(0.1))\n",
        "           \n",
        "model7.add(layers.Dense(10, activation='softmax'))\n",
        "opt_model = optimizers.Adam(lr=1e-4)\n",
        "model7.compile(optimizer=opt_model,loss='categorical_crossentropy',metrics=['accuracy'])\n",
        "model7.summary()\n",
        "history7 = model7.fit(x_train_cifar, y_train_cifar, epochs=100, batch_size=32, validation_split = 0.1, callbacks = callbacks_model1)\n",
        "\n",
        "\n",
        "# model5.add(Dense(64, activation = 'relu'))\n",
        "# model5.add(BatchNormalization())\n",
        "# model5.add(Activation('relu'))\n",
        "# model5.add(Dropout(0.1))"
      ],
      "execution_count": 11,
      "outputs": [
        {
          "output_type": "stream",
          "text": [
            "_________________________________________________________________\n",
            "Layer (type)                 Output Shape              Param #   \n",
            "=================================================================\n",
            "conv2d_1 (Conv2D)            (None, 30, 30, 32)        896       \n",
            "_________________________________________________________________\n",
            "max_pooling2d_1 (MaxPooling2 (None, 15, 15, 32)        0         \n",
            "_________________________________________________________________\n",
            "conv2d_2 (Conv2D)            (None, 13, 13, 64)        18496     \n",
            "_________________________________________________________________\n",
            "max_pooling2d_2 (MaxPooling2 (None, 6, 6, 64)          0         \n",
            "_________________________________________________________________\n",
            "conv2d_3 (Conv2D)            (None, 4, 4, 128)         73856     \n",
            "_________________________________________________________________\n",
            "max_pooling2d_3 (MaxPooling2 (None, 2, 2, 128)         0         \n",
            "_________________________________________________________________\n",
            "flatten_1 (Flatten)          (None, 512)               0         \n",
            "_________________________________________________________________\n",
            "dropout_1 (Dropout)          (None, 512)               0         \n",
            "_________________________________________________________________\n",
            "dense_1 (Dense)              (None, 64)                32832     \n",
            "_________________________________________________________________\n",
            "batch_normalization_1 (Batch (None, 64)                256       \n",
            "_________________________________________________________________\n",
            "activation_1 (Activation)    (None, 64)                0         \n",
            "_________________________________________________________________\n",
            "dropout_2 (Dropout)          (None, 64)                0         \n",
            "_________________________________________________________________\n",
            "dense_2 (Dense)              (None, 10)                650       \n",
            "=================================================================\n",
            "Total params: 126,986\n",
            "Trainable params: 126,858\n",
            "Non-trainable params: 128\n",
            "_________________________________________________________________\n",
            "Train on 45000 samples, validate on 5000 samples\n",
            "Epoch 1/100\n",
            "45000/45000 [==============================] - 89s 2ms/step - loss: 1.7670 - acc: 0.3666 - val_loss: 1.4917 - val_acc: 0.4674\n",
            "Epoch 2/100\n",
            "45000/45000 [==============================] - 89s 2ms/step - loss: 1.4349 - acc: 0.4861 - val_loss: 1.3352 - val_acc: 0.5304\n",
            "Epoch 3/100\n",
            "45000/45000 [==============================] - 89s 2ms/step - loss: 1.2883 - acc: 0.5470 - val_loss: 1.3008 - val_acc: 0.5300\n",
            "Epoch 4/100\n",
            "45000/45000 [==============================] - 90s 2ms/step - loss: 1.1855 - acc: 0.5838 - val_loss: 1.1397 - val_acc: 0.5964\n",
            "Epoch 5/100\n",
            "45000/45000 [==============================] - 91s 2ms/step - loss: 1.1069 - acc: 0.6126 - val_loss: 1.0743 - val_acc: 0.6214\n",
            "Epoch 6/100\n",
            "45000/45000 [==============================] - 91s 2ms/step - loss: 1.0432 - acc: 0.6340 - val_loss: 1.0842 - val_acc: 0.6280\n",
            "Epoch 7/100\n",
            "45000/45000 [==============================] - 91s 2ms/step - loss: 0.9835 - acc: 0.6585 - val_loss: 0.9442 - val_acc: 0.6738\n",
            "Epoch 8/100\n",
            "45000/45000 [==============================] - 91s 2ms/step - loss: 0.9347 - acc: 0.6760 - val_loss: 1.0199 - val_acc: 0.6352\n",
            "Epoch 9/100\n",
            "45000/45000 [==============================] - 93s 2ms/step - loss: 0.8915 - acc: 0.6903 - val_loss: 0.8985 - val_acc: 0.6892\n",
            "Epoch 10/100\n",
            "45000/45000 [==============================] - 92s 2ms/step - loss: 0.8482 - acc: 0.7053 - val_loss: 1.0867 - val_acc: 0.6060\n",
            "Epoch 11/100\n",
            "45000/45000 [==============================] - 92s 2ms/step - loss: 0.8196 - acc: 0.7147 - val_loss: 0.8956 - val_acc: 0.6950\n",
            "Epoch 12/100\n",
            "45000/45000 [==============================] - 92s 2ms/step - loss: 0.7924 - acc: 0.7263 - val_loss: 0.8273 - val_acc: 0.7118\n",
            "Epoch 13/100\n",
            "45000/45000 [==============================] - 91s 2ms/step - loss: 0.7573 - acc: 0.7388 - val_loss: 0.8020 - val_acc: 0.7262\n",
            "Epoch 14/100\n",
            "45000/45000 [==============================] - 91s 2ms/step - loss: 0.7274 - acc: 0.7493 - val_loss: 0.9539 - val_acc: 0.6770\n",
            "Epoch 15/100\n",
            "45000/45000 [==============================] - 92s 2ms/step - loss: 0.7026 - acc: 0.7560 - val_loss: 0.8073 - val_acc: 0.7160\n",
            "Epoch 16/100\n",
            "45000/45000 [==============================] - 92s 2ms/step - loss: 0.6783 - acc: 0.7644 - val_loss: 0.7688 - val_acc: 0.7360\n",
            "Epoch 17/100\n",
            "45000/45000 [==============================] - 91s 2ms/step - loss: 0.6589 - acc: 0.7713 - val_loss: 0.8130 - val_acc: 0.7194\n",
            "Epoch 18/100\n",
            "45000/45000 [==============================] - 91s 2ms/step - loss: 0.6376 - acc: 0.7783 - val_loss: 0.7925 - val_acc: 0.7272\n",
            "Epoch 19/100\n",
            "45000/45000 [==============================] - 92s 2ms/step - loss: 0.6170 - acc: 0.7848 - val_loss: 0.7815 - val_acc: 0.7340\n",
            "Epoch 20/100\n",
            "45000/45000 [==============================] - 90s 2ms/step - loss: 0.5544 - acc: 0.8113 - val_loss: 0.7285 - val_acc: 0.7544\n",
            "Epoch 21/100\n",
            "45000/45000 [==============================] - 91s 2ms/step - loss: 0.5413 - acc: 0.8134 - val_loss: 0.7278 - val_acc: 0.7554\n",
            "Epoch 22/100\n",
            "45000/45000 [==============================] - 91s 2ms/step - loss: 0.5356 - acc: 0.8158 - val_loss: 0.7282 - val_acc: 0.7546\n",
            "Epoch 23/100\n",
            "45000/45000 [==============================] - 91s 2ms/step - loss: 0.5304 - acc: 0.8183 - val_loss: 0.7290 - val_acc: 0.7524\n",
            "Epoch 24/100\n",
            "45000/45000 [==============================] - 89s 2ms/step - loss: 0.5277 - acc: 0.8216 - val_loss: 0.7311 - val_acc: 0.7514\n",
            "Epoch 25/100\n",
            "45000/45000 [==============================] - 90s 2ms/step - loss: 0.5217 - acc: 0.8218 - val_loss: 0.7247 - val_acc: 0.7532\n",
            "Epoch 26/100\n",
            "45000/45000 [==============================] - 91s 2ms/step - loss: 0.5184 - acc: 0.8236 - val_loss: 0.7244 - val_acc: 0.7524\n",
            "Epoch 27/100\n",
            "45000/45000 [==============================] - 91s 2ms/step - loss: 0.5213 - acc: 0.8214 - val_loss: 0.7238 - val_acc: 0.7540\n",
            "Epoch 28/100\n",
            "45000/45000 [==============================] - 90s 2ms/step - loss: 0.5172 - acc: 0.8237 - val_loss: 0.7246 - val_acc: 0.7536\n",
            "Epoch 29/100\n",
            "45000/45000 [==============================] - 91s 2ms/step - loss: 0.5161 - acc: 0.8238 - val_loss: 0.7241 - val_acc: 0.7534\n",
            "Epoch 30/100\n",
            "45000/45000 [==============================] - 90s 2ms/step - loss: 0.5169 - acc: 0.8224 - val_loss: 0.7244 - val_acc: 0.7534\n",
            "Epoch 31/100\n",
            "45000/45000 [==============================] - 91s 2ms/step - loss: 0.5165 - acc: 0.8235 - val_loss: 0.7242 - val_acc: 0.7548\n",
            "Epoch 32/100\n",
            "45000/45000 [==============================] - 91s 2ms/step - loss: 0.5153 - acc: 0.8259 - val_loss: 0.7246 - val_acc: 0.7540\n"
          ],
          "name": "stdout"
        }
      ]
    },
    {
      "metadata": {
        "id": "qObAzQVHUWC2",
        "colab_type": "code",
        "colab": {
          "base_uri": "https://localhost:8080/",
          "height": 376
        },
        "outputId": "6809b419-438b-42c3-ab2f-0becf947ecc3"
      },
      "cell_type": "code",
      "source": [
        "loss = history7.history['loss']\n",
        "val_loss = history7.history['val_loss']\n",
        "epochs = range(1, len(loss) + 1)\n",
        "plt.plot(epochs, loss, 'bo', label='Training loss')\n",
        "plt.plot(epochs, val_loss, 'b', label='Validation loss')\n",
        "plt.title('Training and validation loss')\n",
        "plt.xlabel('Epochs')\n",
        "plt.ylabel('Loss')\n",
        "plt.legend()\n",
        "plt.show()"
      ],
      "execution_count": 12,
      "outputs": [
        {
          "output_type": "display_data",
          "data": {
            "image/png": "[encoded data removed]",
            "text/plain": [
              "<matplotlib.figure.Figure at 0x7fbdad667898>"
            ]
          },
          "metadata": {
            "tags": []
          }
        }
      ]
    },
    {
      "metadata": {
        "id": "_cVNjmwsUZc6",
        "colab_type": "code",
        "colab": {
          "base_uri": "https://localhost:8080/",
          "height": 51
        },
        "outputId": "8e6d9f9e-1a6e-4ef6-fa9f-711349fdb823"
      },
      "cell_type": "code",
      "source": [
        "model7.evaluate(x_test_cifar,y_test_cifar)"
      ],
      "execution_count": 13,
      "outputs": [
        {
          "output_type": "stream",
          "text": [
            "10000/10000 [==============================] - 7s 665us/step\n"
          ],
          "name": "stdout"
        },
        {
          "output_type": "execute_result",
          "data": {
            "text/plain": [
              "[0.7501526889801026, 0.7447]"
            ]
          },
          "metadata": {
            "tags": []
          },
          "execution_count": 13
        }
      ]
    }
  ]
}